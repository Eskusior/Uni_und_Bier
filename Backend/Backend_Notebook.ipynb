{
 "cells": [
  {
   "cell_type": "code",
   "execution_count": 1,
   "metadata": {},
   "outputs": [],
   "source": [
    "from flask import Flask, request\n",
    "from flask_restful import Resource, Api\n",
    "from flask_cors import CORS\n",
    "from sqlalchemy import create_engine\n",
    "from json import dumps\n",
    "from flask import jsonify, redirect\n",
    "import optparse\n",
    "import stardog\n",
    "\n",
    "app = Flask(__name__)\n",
    "cors = CORS(app, resources={r\"*\": {\"origins\": \"*\"}}) # CORS\n",
    "api = Api(app)\n",
    "\n",
    "conn_details = {\n",
    "    'endpoint': 'http://webengineering.ins.hs-anhalt.de:32196',\n",
    "    'username': 'admin',\n",
    "    'password': 'admin'\n",
    "}\n",
    "\n",
    "dbName = 'db1'"
   ]
  },
  {
   "cell_type": "code",
   "execution_count": 2,
   "metadata": {},
   "outputs": [],
   "source": [
    "# Klasse um Daten aus Stardog zu holen\n",
    "class getData(Resource):\n",
    "    def post(self):\n",
    "        if not request.json:\n",
    "            return jsonify({'status': 'could not get requested data', 'statuscode': 409})\n",
    "        else:\n",
    "            query = buildQueryFromJSON(request.json)\n",
    "            # Anfrage an Stardog\n",
    "            with stardog.Connection(dbName, **conn_details) as conn:\n",
    "                conn.begin()\n",
    "                print(query)\n",
    "                results = conn.select(query)\n",
    "                print(results)\n",
    "            return results\n",
    "\n",
    "# Query aus Daten des Forms zusammenbauen\n",
    "def buildQueryFromJSON(jsonData):\n",
    "    i = 1 # Hochzähler für Optionen\n",
    "    nameFilter = \"FILTER contains(?uniName, '\" + jsonData[\"uniName\"] +\"').\" # Filter für Uninamen\n",
    "    subjectFilter = \"FILTER contains(?subjects, '\" + jsonData[\"subject\"] +\"').\" # Filter für Studiengang\n",
    "    groupByString = \"} GROUP BY ?uniName ?uniLat ?uniLon ?uniURL \" # Ende WHERE und Group By\n",
    "    havingString = \"\" # Leer, solange nicht klar, wieviele Zusatzoptionen ausgewählt sind\n",
    "    \n",
    "    # Prefixes\n",
    "    queryPart1 = \"\"\"prefix geo: <http://www.opengis.net/ont/geosparql#>\n",
    "    prefix wgs: <http://www.w3.org/2003/01/geo/wgs84_pos#>\n",
    "    prefix geof: <http://www.opengis.net/def/function/geosparql/>\n",
    "    prefix unit: <http://qudt.org/vocab/unit#>\n",
    "    prefix star: <http://blog.stardog.com/geons/>\n",
    "    prefix sch: <http://schema.org/>\n",
    "    prefix httpsSch: <https://schema.org/>\n",
    "    prefix rdf: <http://www.w3.org/1999/02/22-rdf-syntax-ns#>\n",
    "    prefix xsd: <http://www.w3.org/2001/XMLSchema#>\n",
    "    \"\"\"\n",
    "    # Selectanweisung\n",
    "    selectString = \"SELECT DISTINCT ?uniName ?uniLat ?uniLon ?uniURL \"\n",
    "    \n",
    "    # Where Anfang\n",
    "    queryPart2 = \"\"\"\n",
    "    WHERE {\n",
    "        ?uni sch:name ?uniName;\n",
    "            httpsSch:hasOfferCatalog ?subjects;\n",
    "            httpsSch:url ?uniURL;\n",
    "            geo:hasGeometry ?uniGeo.\n",
    "        ?uniGeo wgs:latitude ?uniLat;\n",
    "                wgs:longitude ?uniLon.\n",
    "                \n",
    "    \"\"\"\n",
    "    \n",
    "    # Für jede Zusatzoption\n",
    "    for option in jsonData[\"extraOptions\"]:\n",
    "        # Variablen abspeichern\n",
    "        name = \"location\" + str(i)\n",
    "        count = option[\"count\"]\n",
    "        type = option[\"type\"]\n",
    "        perimeter = option[\"perimeter\"]\n",
    "        \n",
    "        # Wenn alle Felder ausgefüllt\n",
    "        if (name != '') and (count != 0) and (type != '') and (perimeter != ''):\n",
    "        \n",
    "            # Where für Option bauen\n",
    "            locationString = \"\"\"\n",
    "            ?\"\"\" + name + \"\"\" rdf:type star:Location;\n",
    "            rdf:type '\"\"\"+ type +\"\"\"';\n",
    "            geo:hasGeometry ?geom.\n",
    "            ?geom geof:nearby (?uniGeo \"\"\"+ perimeter +\"\"\" unit:Kilometer).\n",
    "            \"\"\"\n",
    "        \n",
    "            # An Where anhängen\n",
    "            queryPart2 += locationString\n",
    "            # An Group By und Select anhängen\n",
    "            groupByString += \"?\" + name + \" \"\n",
    "            selectString += \"?\" + name + \" \"\n",
    "        \n",
    "            # Je nach Zahl an Having anhängen\n",
    "            if(i == 1):\n",
    "                havingString = \"HAVING ((count(?\"+ name +\") >= \" + count + \")\"\n",
    "            elif i == 2:\n",
    "                havingString += \" && (count(?\"+ name +\") >= \" + count + \")\"\n",
    "            else:\n",
    "                havingString += \" && (count(?\"+ name +\") >= \" + count + \"))\"\n",
    "        else:\n",
    "            # Wenn Option nicht vollständig ausgefüllt\n",
    "            if(i == 3 and havingString != \"\"):\n",
    "                havingString += \")\"\n",
    "        i += 1 # Counter hoch\n",
    "    \n",
    "    # Uniname nicht leer\n",
    "    if jsonData[\"uniName\"] != '':\n",
    "        queryPart2 += nameFilter\n",
    "    \n",
    "    # Studiengang nicht leer\n",
    "    if jsonData[\"subject\"] != '':\n",
    "        queryPart2 += subjectFilter\n",
    "    \n",
    "    # Having nicht leer, also min eine Zusatzoption gefüllt\n",
    "    if(havingString != \"\"):\n",
    "        queryPart2 += groupByString\n",
    "        queryPart2 += havingString\n",
    "    else:\n",
    "        queryPart2 += \"}\" # ansonsten\n",
    "    \n",
    "    queryPart1 += selectString + queryPart2 # String zusammenfügen\n",
    "    \n",
    "    return queryPart1"
   ]
  },
  {
   "cell_type": "code",
   "execution_count": null,
   "metadata": {
    "scrolled": true
   },
   "outputs": [
    {
     "name": "stdout",
     "output_type": "stream",
     "text": [
      " * Serving Flask app \"__main__\" (lazy loading)\n",
      " * Environment: production\n",
      "   WARNING: Do not use the development server in a production environment.\n",
      "   Use a production WSGI server instead.\n",
      " * Debug mode: off\n"
     ]
    },
    {
     "name": "stderr",
     "output_type": "stream",
     "text": [
      " * Running on http://127.0.0.1:4000/ (Press CTRL+C to quit)\n",
      "127.0.0.1 - - [08/Sep/2019 21:48:57] \"OPTIONS /universities HTTP/1.1\" 200 -\n",
      "127.0.0.1 - - [08/Sep/2019 21:48:57] \"POST /universities HTTP/1.1\" 200 -\n"
     ]
    },
    {
     "name": "stdout",
     "output_type": "stream",
     "text": [
      "prefix geo: <http://www.opengis.net/ont/geosparql#>\n",
      "    prefix wgs: <http://www.w3.org/2003/01/geo/wgs84_pos#>\n",
      "    prefix geof: <http://www.opengis.net/def/function/geosparql/>\n",
      "    prefix unit: <http://qudt.org/vocab/unit#>\n",
      "    prefix star: <http://blog.stardog.com/geons/>\n",
      "    prefix sch: <http://schema.org/>\n",
      "    prefix httpsSch: <https://schema.org/>\n",
      "    prefix rdf: <http://www.w3.org/1999/02/22-rdf-syntax-ns#>\n",
      "    prefix xsd: <http://www.w3.org/2001/XMLSchema#>\n",
      "    SELECT DISTINCT ?uniName ?uniLat ?uniLon ?uniURL \n",
      "    WHERE {\n",
      "        ?uni sch:name ?uniName;\n",
      "            httpsSch:hasOfferCatalog ?subjects;\n",
      "            httpsSch:url ?uniURL;\n",
      "            geo:hasGeometry ?uniGeo.\n",
      "        ?uniGeo wgs:latitude ?uniLat;\n",
      "                wgs:longitude ?uniLon.\n",
      "                \n",
      "    FILTER contains(?subjects, 'Informatik').}\n",
      "{'head': {'vars': ['uniName', 'uniLat', 'uniLon', 'uniURL']}, 'results': {'bindings': [{'uniName': {'type': 'literal', 'value': 'Freie Universität Berlin'}, 'uniURL': {'type': 'uri', 'value': 'https://www.fu-berlin.de/en'}, 'uniLat': {'datatype': 'http://www.w3.org/2001/XMLSchema#float', 'type': 'literal', 'value': '52.453056'}, 'uniLon': {'datatype': 'http://www.w3.org/2001/XMLSchema#float', 'type': 'literal', 'value': '13.290556'}}, {'uniName': {'type': 'literal', 'value': 'Ludwig-Maximilians-Universität München'}, 'uniURL': {'type': 'uri', 'value': 'https://www.en.uni-muenchen.de/index.html'}, 'uniLat': {'datatype': 'http://www.w3.org/2001/XMLSchema#float', 'type': 'literal', 'value': '48.150833'}, 'uniLon': {'datatype': 'http://www.w3.org/2001/XMLSchema#float', 'type': 'literal', 'value': '11.580277'}}, {'uniName': {'type': 'literal', 'value': 'Technische Universität München'}, 'uniURL': {'type': 'uri', 'value': 'http://www.tum.de'}, 'uniLat': {'datatype': 'http://www.w3.org/2001/XMLSchema#float', 'type': 'literal', 'value': '48.148056'}, 'uniLon': {'datatype': 'http://www.w3.org/2001/XMLSchema#float', 'type': 'literal', 'value': '11.568055'}}, {'uniName': {'type': 'literal', 'value': 'Ruprecht-Karls-Universität Heidelberg'}, 'uniURL': {'type': 'uri', 'value': 'https://www.uni-heidelberg.de/en'}, 'uniLat': {'datatype': 'http://www.w3.org/2001/XMLSchema#float', 'type': 'literal', 'value': '49.41028'}, 'uniLon': {'datatype': 'http://www.w3.org/2001/XMLSchema#float', 'type': 'literal', 'value': '8.706388'}}, {'uniName': {'type': 'literal', 'value': 'Humboldt-Universität zu Berlin'}, 'uniURL': {'type': 'uri', 'value': 'https://www.hu-berlin.de/?set_language=en&cl=en'}, 'uniLat': {'datatype': 'http://www.w3.org/2001/XMLSchema#float', 'type': 'literal', 'value': '52.518055'}, 'uniLon': {'datatype': 'http://www.w3.org/2001/XMLSchema#float', 'type': 'literal', 'value': '52.518055'}}, {'uniName': {'type': 'literal', 'value': 'Rheinische Friedrich-Wilhelms-Universität Bonn'}, 'uniURL': {'type': 'uri', 'value': 'http://www3.uni-bonn.de/news-1?set_language=en'}, 'uniLat': {'datatype': 'http://www.w3.org/2001/XMLSchema#float', 'type': 'literal', 'value': '50.73389'}, 'uniLon': {'datatype': 'http://www.w3.org/2001/XMLSchema#float', 'type': 'literal', 'value': '7.1022224'}}, {'uniName': {'type': 'literal', 'value': 'Technische Universität Berlin'}, 'uniURL': {'type': 'uri', 'value': 'https://www.tu-berlin.de/menue/home/parameter/en/'}, 'uniLat': {'datatype': 'http://www.w3.org/2001/XMLSchema#float', 'type': 'literal', 'value': '52.511944'}, 'uniLon': {'datatype': 'http://www.w3.org/2001/XMLSchema#float', 'type': 'literal', 'value': '13.326389'}}, {'uniName': {'type': 'literal', 'value': 'Universität Hamburg'}, 'uniURL': {'type': 'uri', 'value': 'https://www.uni-hamburg.de/en/'}, 'uniLat': {'datatype': 'http://www.w3.org/2001/XMLSchema#float', 'type': 'literal', 'value': '53.566944'}, 'uniLon': {'datatype': 'http://www.w3.org/2001/XMLSchema#float', 'type': 'literal', 'value': '9.983889'}}, {'uniName': {'type': 'literal', 'value': 'Karlsruher Institut für Technologie'}, 'uniURL': {'type': 'uri', 'value': 'https://www.kit.edu/english/'}, 'uniLat': {'datatype': 'http://www.w3.org/2001/XMLSchema#float', 'type': 'literal', 'value': '49.009445'}, 'uniLon': {'datatype': 'http://www.w3.org/2001/XMLSchema#float', 'type': 'literal', 'value': '8.411667'}}, {'uniName': {'type': 'literal', 'value': 'Friedrich-Alexander-Universität Erlangen-Nürnberg'}, 'uniURL': {'type': 'uri', 'value': 'http://fau.eu/'}, 'uniLat': {'datatype': 'http://www.w3.org/2001/XMLSchema#float', 'type': 'literal', 'value': '49.597916'}, 'uniLon': {'datatype': 'http://www.w3.org/2001/XMLSchema#float', 'type': 'literal', 'value': '11.004769'}}, {'uniName': {'type': 'literal', 'value': 'Universität Konstanz'}, 'uniURL': {'type': 'uri', 'value': 'https://www.uni-konstanz.de/en/'}, 'uniLat': {'datatype': 'http://www.w3.org/2001/XMLSchema#float', 'type': 'literal', 'value': '47.69'}, 'uniLon': {'datatype': 'http://www.w3.org/2001/XMLSchema#float', 'type': 'literal', 'value': '9.188'}}, {'uniName': {'type': 'literal', 'value': 'Universität Bielefeld'}, 'uniURL': {'type': 'uri', 'value': 'https://www.uni-bielefeld.de/(en)/index.html'}, 'uniLat': {'datatype': 'http://www.w3.org/2001/XMLSchema#float', 'type': 'literal', 'value': '52.037777'}, 'uniLon': {'datatype': 'http://www.w3.org/2001/XMLSchema#float', 'type': 'literal', 'value': '8.493055'}}, {'uniName': {'type': 'literal', 'value': 'Christian-Albrechts-Universität zu Kiel'}, 'uniURL': {'type': 'uri', 'value': 'https://www.uni-kiel.de/index-e.shtml'}, 'uniLat': {'datatype': 'http://www.w3.org/2001/XMLSchema#float', 'type': 'literal', 'value': '54.33889'}, 'uniLon': {'datatype': 'http://www.w3.org/2001/XMLSchema#float', 'type': 'literal', 'value': '10.1225'}}, {'uniName': {'type': 'literal', 'value': 'Universität Passau'}, 'uniURL': {'type': 'uri', 'value': 'http://www.uni-passau.de/en/'}, 'uniLat': {'datatype': 'http://www.w3.org/2001/XMLSchema#float', 'type': 'literal', 'value': '48.568333'}, 'uniLon': {'datatype': 'http://www.w3.org/2001/XMLSchema#float', 'type': 'literal', 'value': '13.453333'}}, {'uniName': {'type': 'literal', 'value': 'Johann Wolfgang Goethe-Universität Frankfurt am Main'}, 'uniURL': {'type': 'uri', 'value': 'http://www.goethe-university-frankfurt.de/'}, 'uniLat': {'datatype': 'http://www.w3.org/2001/XMLSchema#float', 'type': 'literal', 'value': '50.127777'}, 'uniLon': {'datatype': 'http://www.w3.org/2001/XMLSchema#float', 'type': 'literal', 'value': '8.666667'}}, {'uniName': {'type': 'literal', 'value': 'Ruhr-Universität Bochum'}, 'uniURL': {'type': 'uri', 'value': 'https://www.ruhr-uni-bochum.de/index_en.htm'}, 'uniLat': {'datatype': 'http://www.w3.org/2001/XMLSchema#float', 'type': 'literal', 'value': '51.44389'}, 'uniLon': {'datatype': 'http://www.w3.org/2001/XMLSchema#float', 'type': 'literal', 'value': '7.261667'}}, {'uniName': {'type': 'literal', 'value': 'Universität Stuttgart'}, 'uniURL': {'type': 'uri', 'value': 'https://www.uni-stuttgart.de/home/index.en.html'}, 'uniLat': {'datatype': 'http://www.w3.org/2001/XMLSchema#float', 'type': 'literal', 'value': '48.781666'}, 'uniLon': {'datatype': 'http://www.w3.org/2001/XMLSchema#float', 'type': 'literal', 'value': '9.175278'}}, {'uniName': {'type': 'literal', 'value': 'Technische Universität Darmstadt'}, 'uniURL': {'type': 'uri', 'value': 'https://www.tu-darmstadt.de/index.en.jsp'}, 'uniLat': {'datatype': 'http://www.w3.org/2001/XMLSchema#float', 'type': 'literal', 'value': '49.874996'}, 'uniLon': {'datatype': 'http://www.w3.org/2001/XMLSchema#float', 'type': 'literal', 'value': '8.656517'}}, {'uniName': {'type': 'literal', 'value': 'Ernst-Moritz-Arndt-Universität Greifswald'}, 'uniURL': {'type': 'uri', 'value': 'http://www.uni-greifswald.de/?L=1'}, 'uniLat': {'datatype': 'http://www.w3.org/2001/XMLSchema#float', 'type': 'literal', 'value': '54.09464'}, 'uniLon': {'datatype': 'http://www.w3.org/2001/XMLSchema#float', 'type': 'literal', 'value': '13.374626'}}, {'uniName': {'type': 'literal', 'value': 'Technische Universität Hamburg-Harburg'}, 'uniURL': {'type': 'uri', 'value': 'http://www.tuhh.de/index_e.html'}, 'uniLat': {'datatype': 'http://www.w3.org/2001/XMLSchema#float', 'type': 'literal', 'value': '53.460835'}, 'uniLon': {'datatype': 'http://www.w3.org/2001/XMLSchema#float', 'type': 'literal', 'value': '9.969444'}}, {'uniName': {'type': 'literal', 'value': 'Technische Universität Kaiserslautern'}, 'uniURL': {'type': 'uri', 'value': 'https://www.uni-kl.de/en/home/'}, 'uniLat': {'datatype': 'http://www.w3.org/2001/XMLSchema#float', 'type': 'literal', 'value': '49.42389'}, 'uniLon': {'datatype': 'http://www.w3.org/2001/XMLSchema#float', 'type': 'literal', 'value': '7.7530556'}}, {'uniName': {'type': 'literal', 'value': 'Universität Siegen'}, 'uniURL': {'type': 'uri', 'value': 'https://www.uni-siegen.de/start/index.html.en?lang=en'}, 'uniLat': {'datatype': 'http://www.w3.org/2001/XMLSchema#float', 'type': 'literal', 'value': '50.906387'}, 'uniLon': {'datatype': 'http://www.w3.org/2001/XMLSchema#float', 'type': 'literal', 'value': '8.028334'}}, {'uniName': {'type': 'literal', 'value': 'Technische Universität Chemnitz'}, 'uniURL': {'type': 'uri', 'value': 'http://www.tu-chemnitz.de/'}, 'uniLat': {'datatype': 'http://www.w3.org/2001/XMLSchema#float', 'type': 'literal', 'value': '50.81361'}, 'uniLon': {'datatype': 'http://www.w3.org/2001/XMLSchema#float', 'type': 'literal', 'value': '12.929167'}}, {'uniName': {'type': 'literal', 'value': 'Technische Universität Ilmenau'}, 'uniURL': {'type': 'uri', 'value': 'https://www.tu-ilmenau.de/en/international/'}, 'uniLat': {'datatype': 'http://www.w3.org/2001/XMLSchema#float', 'type': 'literal', 'value': '50.681667'}, 'uniLon': {'datatype': 'http://www.w3.org/2001/XMLSchema#float', 'type': 'literal', 'value': '10.938889'}}, {'uniName': {'type': 'literal', 'value': 'Albert-Ludwigs-Universität Freiburg'}, 'uniURL': {'type': 'uri', 'value': 'https://www.uni-freiburg.de/start-en.html?set_language=en'}, 'uniLat': {'datatype': 'http://www.w3.org/2001/XMLSchema#float', 'type': 'literal', 'value': '47.994167'}, 'uniLon': {'datatype': 'http://www.w3.org/2001/XMLSchema#float', 'type': 'literal', 'value': '7.8469443'}}, {'uniName': {'type': 'literal', 'value': 'RWTH Aachen'}, 'uniURL': {'type': 'uri', 'value': 'http://www.rwth-aachen.de/cms/~a/root/?lidx=1'}, 'uniLat': {'datatype': 'http://www.w3.org/2001/XMLSchema#float', 'type': 'literal', 'value': '50.77778'}, 'uniLon': {'datatype': 'http://www.w3.org/2001/XMLSchema#float', 'type': 'literal', 'value': '6.0780554'}}, {'uniName': {'type': 'literal', 'value': 'Eberhard Karls Universität Tübingen'}, 'uniURL': {'type': 'uri', 'value': 'https://uni-tuebingen.de/en'}, 'uniLat': {'datatype': 'http://www.w3.org/2001/XMLSchema#float', 'type': 'literal', 'value': '48.525'}, 'uniLon': {'datatype': 'http://www.w3.org/2001/XMLSchema#float', 'type': 'literal', 'value': '9.059'}}, {'uniName': {'type': 'literal', 'value': 'Georg-August-Universität Göttingen'}, 'uniURL': {'type': 'uri', 'value': 'https://www.uni-goettingen.de/en/1.html'}, 'uniLat': {'datatype': 'http://www.w3.org/2001/XMLSchema#float', 'type': 'literal', 'value': '51.541943'}, 'uniLon': {'datatype': 'http://www.w3.org/2001/XMLSchema#float', 'type': 'literal', 'value': '9.934444'}}, {'uniName': {'type': 'literal', 'value': 'Universität Ulm'}, 'uniURL': {'type': 'uri', 'value': 'https://www.uni-ulm.de/'}, 'uniLat': {'datatype': 'http://www.w3.org/2001/XMLSchema#float', 'type': 'literal', 'value': '48.42328'}, 'uniLon': {'datatype': 'http://www.w3.org/2001/XMLSchema#float', 'type': 'literal', 'value': '9.95322'}}, {'uniName': {'type': 'literal', 'value': 'Technische Universität Dresden'}, 'uniURL': {'type': 'uri', 'value': 'https://tu-dresden.de/en'}, 'uniLat': {'datatype': 'http://www.w3.org/2001/XMLSchema#float', 'type': 'literal', 'value': '51.028057'}, 'uniLon': {'datatype': 'http://www.w3.org/2001/XMLSchema#float', 'type': 'literal', 'value': '13.726666'}}, {'uniName': {'type': 'literal', 'value': 'Julius-Maximilians-Universität Würzburg'}, 'uniURL': {'type': 'uri', 'value': 'https://www.uni-wuerzburg.de/en/home/'}, 'uniLat': {'datatype': 'http://www.w3.org/2001/XMLSchema#float', 'type': 'literal', 'value': '49.788055'}, 'uniLon': {'datatype': 'http://www.w3.org/2001/XMLSchema#float', 'type': 'literal', 'value': '9.935278'}}, {'uniName': {'type': 'literal', 'value': 'Westfälische Wilhelms-Universität'}, 'uniURL': {'type': 'uri', 'value': 'https://www.uni-muenster.de/en/'}, 'uniLat': {'datatype': 'http://www.w3.org/2001/XMLSchema#float', 'type': 'literal', 'value': '51.964'}, 'uniLon': {'datatype': 'http://www.w3.org/2001/XMLSchema#float', 'type': 'literal', 'value': '7.613'}}, {'uniName': {'type': 'literal', 'value': 'Universität Potsdam'}, 'uniURL': {'type': 'uri', 'value': 'https://www.uni-potsdam.de/en/university-of-potsdam.html'}, 'uniLat': {'datatype': 'http://www.w3.org/2001/XMLSchema#float', 'type': 'literal', 'value': '52.40111'}, 'uniLon': {'datatype': 'http://www.w3.org/2001/XMLSchema#float', 'type': 'literal', 'value': '13.011945'}}, {'uniName': {'type': 'literal', 'value': 'Universität Duisburg-Essen'}, 'uniURL': {'type': 'uri', 'value': 'https://www.uni-due.de/en/index.php'}, 'uniLat': {'datatype': 'http://www.w3.org/2001/XMLSchema#float', 'type': 'literal', 'value': '51.46361'}, 'uniLon': {'datatype': 'http://www.w3.org/2001/XMLSchema#float', 'type': 'literal', 'value': '7.00579'}}, {'uniName': {'type': 'literal', 'value': 'Universität Duisburg-Essen'}, 'uniURL': {'type': 'uri', 'value': 'https://www.uni-due.de/en/index.php'}, 'uniLat': {'datatype': 'http://www.w3.org/2001/XMLSchema#float', 'type': 'literal', 'value': '51.42753'}, 'uniLon': {'datatype': 'http://www.w3.org/2001/XMLSchema#float', 'type': 'literal', 'value': '6.80017'}}, {'uniName': {'type': 'literal', 'value': 'Johannes Gutenberg-Universität Mainz'}, 'uniURL': {'type': 'uri', 'value': 'https://www.uni-mainz.de/eng/'}, 'uniLat': {'datatype': 'http://www.w3.org/2001/XMLSchema#float', 'type': 'literal', 'value': '49.993057'}, 'uniLon': {'datatype': 'http://www.w3.org/2001/XMLSchema#float', 'type': 'literal', 'value': '8.241667'}}, {'uniName': {'type': 'literal', 'value': 'Philipps-Universität Marburg'}, 'uniURL': {'type': 'uri', 'value': 'https://www.uni-marburg.de/en'}, 'uniLat': {'datatype': 'http://www.w3.org/2001/XMLSchema#float', 'type': 'literal', 'value': '50.810833'}, 'uniLon': {'datatype': 'http://www.w3.org/2001/XMLSchema#float', 'type': 'literal', 'value': '8.773611'}}, {'uniName': {'type': 'literal', 'value': 'Universität Bayreuth'}, 'uniURL': {'type': 'uri', 'value': 'https://www.uni-bayreuth.de/de/index.html'}, 'uniLat': {'datatype': 'http://www.w3.org/2001/XMLSchema#float', 'type': 'literal', 'value': '49.92889'}, 'uniLon': {'datatype': 'http://www.w3.org/2001/XMLSchema#float', 'type': 'literal', 'value': '11.585834'}}, {'uniName': {'type': 'literal', 'value': 'Universität Bremen'}, 'uniURL': {'type': 'uri', 'value': 'https://www.uni-bremen.de/en.html'}, 'uniLat': {'datatype': 'http://www.w3.org/2001/XMLSchema#float', 'type': 'literal', 'value': '53.108612'}, 'uniLon': {'datatype': 'http://www.w3.org/2001/XMLSchema#float', 'type': 'literal', 'value': '8.853611'}}, {'uniName': {'type': 'literal', 'value': 'Technische Universität Dortmund'}, 'uniURL': {'type': 'uri', 'value': 'https://www.tu-dortmund.de/'}, 'uniLat': {'datatype': 'http://www.w3.org/2001/XMLSchema#float', 'type': 'literal', 'value': '51.4925'}, 'uniLon': {'datatype': 'http://www.w3.org/2001/XMLSchema#float', 'type': 'literal', 'value': '7.4141665'}}, {'uniName': {'type': 'literal', 'value': 'Gottfried Wilhelm Leibniz Universität Hannover'}, 'uniURL': {'type': 'uri', 'value': 'https://www.uni-hannover.de/en/'}, 'uniLat': {'datatype': 'http://www.w3.org/2001/XMLSchema#float', 'type': 'literal', 'value': '52.382214'}, 'uniLon': {'datatype': 'http://www.w3.org/2001/XMLSchema#float', 'type': 'literal', 'value': '9.717728'}}, {'uniName': {'type': 'literal', 'value': 'Otto-von-Guericke-Universität Magdeburg'}, 'uniURL': {'type': 'uri', 'value': 'https://www.uni-magdeburg.de/unimagdeburg/en/'}, 'uniLat': {'datatype': 'http://www.w3.org/2001/XMLSchema#float', 'type': 'literal', 'value': '52.14'}, 'uniLon': {'datatype': 'http://www.w3.org/2001/XMLSchema#float', 'type': 'literal', 'value': '11.643'}}]}}\n"
     ]
    },
    {
     "name": "stderr",
     "output_type": "stream",
     "text": [
      "127.0.0.1 - - [08/Sep/2019 21:49:42] \"OPTIONS /universities HTTP/1.1\" 200 -\n",
      "127.0.0.1 - - [08/Sep/2019 21:49:42] \"POST /universities HTTP/1.1\" 200 -\n"
     ]
    },
    {
     "name": "stdout",
     "output_type": "stream",
     "text": [
      "prefix geo: <http://www.opengis.net/ont/geosparql#>\n",
      "    prefix wgs: <http://www.w3.org/2003/01/geo/wgs84_pos#>\n",
      "    prefix geof: <http://www.opengis.net/def/function/geosparql/>\n",
      "    prefix unit: <http://qudt.org/vocab/unit#>\n",
      "    prefix star: <http://blog.stardog.com/geons/>\n",
      "    prefix sch: <http://schema.org/>\n",
      "    prefix httpsSch: <https://schema.org/>\n",
      "    prefix rdf: <http://www.w3.org/1999/02/22-rdf-syntax-ns#>\n",
      "    prefix xsd: <http://www.w3.org/2001/XMLSchema#>\n",
      "    SELECT DISTINCT ?uniName ?uniLat ?uniLon ?uniURL \n",
      "    WHERE {\n",
      "        ?uni sch:name ?uniName;\n",
      "            httpsSch:hasOfferCatalog ?subjects;\n",
      "            httpsSch:url ?uniURL;\n",
      "            geo:hasGeometry ?uniGeo.\n",
      "        ?uniGeo wgs:latitude ?uniLat;\n",
      "                wgs:longitude ?uniLon.\n",
      "                \n",
      "    FILTER contains(?subjects, 'Informatik2').}\n",
      "{'head': {'vars': ['uniName', 'uniLat', 'uniLon', 'uniURL']}, 'results': {'bindings': []}}\n"
     ]
    },
    {
     "name": "stderr",
     "output_type": "stream",
     "text": [
      "127.0.0.1 - - [08/Sep/2019 21:50:04] \"OPTIONS /universities HTTP/1.1\" 200 -\n",
      "127.0.0.1 - - [08/Sep/2019 21:50:04] \"POST /universities HTTP/1.1\" 200 -\n"
     ]
    },
    {
     "name": "stdout",
     "output_type": "stream",
     "text": [
      "prefix geo: <http://www.opengis.net/ont/geosparql#>\n",
      "    prefix wgs: <http://www.w3.org/2003/01/geo/wgs84_pos#>\n",
      "    prefix geof: <http://www.opengis.net/def/function/geosparql/>\n",
      "    prefix unit: <http://qudt.org/vocab/unit#>\n",
      "    prefix star: <http://blog.stardog.com/geons/>\n",
      "    prefix sch: <http://schema.org/>\n",
      "    prefix httpsSch: <https://schema.org/>\n",
      "    prefix rdf: <http://www.w3.org/1999/02/22-rdf-syntax-ns#>\n",
      "    prefix xsd: <http://www.w3.org/2001/XMLSchema#>\n",
      "    SELECT DISTINCT ?uniName ?uniLat ?uniLon ?uniURL \n",
      "    WHERE {\n",
      "        ?uni sch:name ?uniName;\n",
      "            httpsSch:hasOfferCatalog ?subjects;\n",
      "            httpsSch:url ?uniURL;\n",
      "            geo:hasGeometry ?uniGeo.\n",
      "        ?uniGeo wgs:latitude ?uniLat;\n",
      "                wgs:longitude ?uniLon.\n",
      "                \n",
      "    FILTER contains(?subjects, 'Informatik2').}\n",
      "{'head': {'vars': ['uniName', 'uniLat', 'uniLon', 'uniURL']}, 'results': {'bindings': []}}\n"
     ]
    },
    {
     "name": "stderr",
     "output_type": "stream",
     "text": [
      "127.0.0.1 - - [08/Sep/2019 21:51:17] \"OPTIONS /universities HTTP/1.1\" 200 -\n",
      "127.0.0.1 - - [08/Sep/2019 21:51:18] \"POST /universities HTTP/1.1\" 200 -\n"
     ]
    },
    {
     "name": "stdout",
     "output_type": "stream",
     "text": [
      "prefix geo: <http://www.opengis.net/ont/geosparql#>\n",
      "    prefix wgs: <http://www.w3.org/2003/01/geo/wgs84_pos#>\n",
      "    prefix geof: <http://www.opengis.net/def/function/geosparql/>\n",
      "    prefix unit: <http://qudt.org/vocab/unit#>\n",
      "    prefix star: <http://blog.stardog.com/geons/>\n",
      "    prefix sch: <http://schema.org/>\n",
      "    prefix httpsSch: <https://schema.org/>\n",
      "    prefix rdf: <http://www.w3.org/1999/02/22-rdf-syntax-ns#>\n",
      "    prefix xsd: <http://www.w3.org/2001/XMLSchema#>\n",
      "    SELECT DISTINCT ?uniName ?uniLat ?uniLon ?uniURL \n",
      "    WHERE {\n",
      "        ?uni sch:name ?uniName;\n",
      "            httpsSch:hasOfferCatalog ?subjects;\n",
      "            httpsSch:url ?uniURL;\n",
      "            geo:hasGeometry ?uniGeo.\n",
      "        ?uniGeo wgs:latitude ?uniLat;\n",
      "                wgs:longitude ?uniLon.\n",
      "                \n",
      "    FILTER contains(?uniName, 'Berlin').}\n",
      "{'head': {'vars': ['uniName', 'uniLat', 'uniLon', 'uniURL']}, 'results': {'bindings': [{'uniName': {'type': 'literal', 'value': 'Freie Universität Berlin'}, 'uniURL': {'type': 'uri', 'value': 'https://www.fu-berlin.de/en'}, 'uniLat': {'datatype': 'http://www.w3.org/2001/XMLSchema#float', 'type': 'literal', 'value': '52.453056'}, 'uniLon': {'datatype': 'http://www.w3.org/2001/XMLSchema#float', 'type': 'literal', 'value': '13.290556'}}, {'uniName': {'type': 'literal', 'value': 'Humboldt-Universität zu Berlin'}, 'uniURL': {'type': 'uri', 'value': 'https://www.hu-berlin.de/?set_language=en&cl=en'}, 'uniLat': {'datatype': 'http://www.w3.org/2001/XMLSchema#float', 'type': 'literal', 'value': '52.518055'}, 'uniLon': {'datatype': 'http://www.w3.org/2001/XMLSchema#float', 'type': 'literal', 'value': '52.518055'}}, {'uniName': {'type': 'literal', 'value': 'Technische Universität Berlin'}, 'uniURL': {'type': 'uri', 'value': 'https://www.tu-berlin.de/menue/home/parameter/en/'}, 'uniLat': {'datatype': 'http://www.w3.org/2001/XMLSchema#float', 'type': 'literal', 'value': '52.511944'}, 'uniLon': {'datatype': 'http://www.w3.org/2001/XMLSchema#float', 'type': 'literal', 'value': '13.326389'}}]}}\n"
     ]
    },
    {
     "name": "stderr",
     "output_type": "stream",
     "text": [
      "127.0.0.1 - - [08/Sep/2019 21:53:20] \"OPTIONS /universities HTTP/1.1\" 200 -\n",
      "127.0.0.1 - - [08/Sep/2019 21:53:20] \"POST /universities HTTP/1.1\" 200 -\n"
     ]
    },
    {
     "name": "stdout",
     "output_type": "stream",
     "text": [
      "prefix geo: <http://www.opengis.net/ont/geosparql#>\n",
      "    prefix wgs: <http://www.w3.org/2003/01/geo/wgs84_pos#>\n",
      "    prefix geof: <http://www.opengis.net/def/function/geosparql/>\n",
      "    prefix unit: <http://qudt.org/vocab/unit#>\n",
      "    prefix star: <http://blog.stardog.com/geons/>\n",
      "    prefix sch: <http://schema.org/>\n",
      "    prefix httpsSch: <https://schema.org/>\n",
      "    prefix rdf: <http://www.w3.org/1999/02/22-rdf-syntax-ns#>\n",
      "    prefix xsd: <http://www.w3.org/2001/XMLSchema#>\n",
      "    SELECT DISTINCT ?uniName ?uniLat ?uniLon ?uniURL \n",
      "    WHERE {\n",
      "        ?uni sch:name ?uniName;\n",
      "            httpsSch:hasOfferCatalog ?subjects;\n",
      "            httpsSch:url ?uniURL;\n",
      "            geo:hasGeometry ?uniGeo.\n",
      "        ?uniGeo wgs:latitude ?uniLat;\n",
      "                wgs:longitude ?uniLon.\n",
      "                \n",
      "    FILTER contains(?uniName, 'Berlin').}\n",
      "{'head': {'vars': ['uniName', 'uniLat', 'uniLon', 'uniURL']}, 'results': {'bindings': [{'uniName': {'type': 'literal', 'value': 'Freie Universität Berlin'}, 'uniURL': {'type': 'uri', 'value': 'https://www.fu-berlin.de/en'}, 'uniLat': {'datatype': 'http://www.w3.org/2001/XMLSchema#float', 'type': 'literal', 'value': '52.453056'}, 'uniLon': {'datatype': 'http://www.w3.org/2001/XMLSchema#float', 'type': 'literal', 'value': '13.290556'}}, {'uniName': {'type': 'literal', 'value': 'Humboldt-Universität zu Berlin'}, 'uniURL': {'type': 'uri', 'value': 'https://www.hu-berlin.de/?set_language=en&cl=en'}, 'uniLat': {'datatype': 'http://www.w3.org/2001/XMLSchema#float', 'type': 'literal', 'value': '52.518055'}, 'uniLon': {'datatype': 'http://www.w3.org/2001/XMLSchema#float', 'type': 'literal', 'value': '52.518055'}}, {'uniName': {'type': 'literal', 'value': 'Technische Universität Berlin'}, 'uniURL': {'type': 'uri', 'value': 'https://www.tu-berlin.de/menue/home/parameter/en/'}, 'uniLat': {'datatype': 'http://www.w3.org/2001/XMLSchema#float', 'type': 'literal', 'value': '52.511944'}, 'uniLon': {'datatype': 'http://www.w3.org/2001/XMLSchema#float', 'type': 'literal', 'value': '13.326389'}}]}}\n"
     ]
    },
    {
     "name": "stderr",
     "output_type": "stream",
     "text": [
      "127.0.0.1 - - [08/Sep/2019 21:53:40] \"OPTIONS /universities HTTP/1.1\" 200 -\n",
      "127.0.0.1 - - [08/Sep/2019 21:53:40] \"POST /universities HTTP/1.1\" 200 -\n"
     ]
    },
    {
     "name": "stdout",
     "output_type": "stream",
     "text": [
      "prefix geo: <http://www.opengis.net/ont/geosparql#>\n",
      "    prefix wgs: <http://www.w3.org/2003/01/geo/wgs84_pos#>\n",
      "    prefix geof: <http://www.opengis.net/def/function/geosparql/>\n",
      "    prefix unit: <http://qudt.org/vocab/unit#>\n",
      "    prefix star: <http://blog.stardog.com/geons/>\n",
      "    prefix sch: <http://schema.org/>\n",
      "    prefix httpsSch: <https://schema.org/>\n",
      "    prefix rdf: <http://www.w3.org/1999/02/22-rdf-syntax-ns#>\n",
      "    prefix xsd: <http://www.w3.org/2001/XMLSchema#>\n",
      "    SELECT DISTINCT ?uniName ?uniLat ?uniLon ?uniURL \n",
      "    WHERE {\n",
      "        ?uni sch:name ?uniName;\n",
      "            httpsSch:hasOfferCatalog ?subjects;\n",
      "            httpsSch:url ?uniURL;\n",
      "            geo:hasGeometry ?uniGeo.\n",
      "        ?uniGeo wgs:latitude ?uniLat;\n",
      "                wgs:longitude ?uniLon.\n",
      "                \n",
      "    FILTER contains(?uniName, 'Berlin').}\n",
      "{'head': {'vars': ['uniName', 'uniLat', 'uniLon', 'uniURL']}, 'results': {'bindings': [{'uniName': {'type': 'literal', 'value': 'Freie Universität Berlin'}, 'uniURL': {'type': 'uri', 'value': 'https://www.fu-berlin.de/en'}, 'uniLat': {'datatype': 'http://www.w3.org/2001/XMLSchema#float', 'type': 'literal', 'value': '52.453056'}, 'uniLon': {'datatype': 'http://www.w3.org/2001/XMLSchema#float', 'type': 'literal', 'value': '13.290556'}}, {'uniName': {'type': 'literal', 'value': 'Humboldt-Universität zu Berlin'}, 'uniURL': {'type': 'uri', 'value': 'https://www.hu-berlin.de/?set_language=en&cl=en'}, 'uniLat': {'datatype': 'http://www.w3.org/2001/XMLSchema#float', 'type': 'literal', 'value': '52.518055'}, 'uniLon': {'datatype': 'http://www.w3.org/2001/XMLSchema#float', 'type': 'literal', 'value': '52.518055'}}, {'uniName': {'type': 'literal', 'value': 'Technische Universität Berlin'}, 'uniURL': {'type': 'uri', 'value': 'https://www.tu-berlin.de/menue/home/parameter/en/'}, 'uniLat': {'datatype': 'http://www.w3.org/2001/XMLSchema#float', 'type': 'literal', 'value': '52.511944'}, 'uniLon': {'datatype': 'http://www.w3.org/2001/XMLSchema#float', 'type': 'literal', 'value': '13.326389'}}]}}\n"
     ]
    },
    {
     "name": "stderr",
     "output_type": "stream",
     "text": [
      "127.0.0.1 - - [08/Sep/2019 21:53:54] \"OPTIONS /universities HTTP/1.1\" 200 -\n",
      "127.0.0.1 - - [08/Sep/2019 21:53:54] \"POST /universities HTTP/1.1\" 200 -\n"
     ]
    },
    {
     "name": "stdout",
     "output_type": "stream",
     "text": [
      "prefix geo: <http://www.opengis.net/ont/geosparql#>\n",
      "    prefix wgs: <http://www.w3.org/2003/01/geo/wgs84_pos#>\n",
      "    prefix geof: <http://www.opengis.net/def/function/geosparql/>\n",
      "    prefix unit: <http://qudt.org/vocab/unit#>\n",
      "    prefix star: <http://blog.stardog.com/geons/>\n",
      "    prefix sch: <http://schema.org/>\n",
      "    prefix httpsSch: <https://schema.org/>\n",
      "    prefix rdf: <http://www.w3.org/1999/02/22-rdf-syntax-ns#>\n",
      "    prefix xsd: <http://www.w3.org/2001/XMLSchema#>\n",
      "    SELECT DISTINCT ?uniName ?uniLat ?uniLon ?uniURL \n",
      "    WHERE {\n",
      "        ?uni sch:name ?uniName;\n",
      "            httpsSch:hasOfferCatalog ?subjects;\n",
      "            httpsSch:url ?uniURL;\n",
      "            geo:hasGeometry ?uniGeo.\n",
      "        ?uniGeo wgs:latitude ?uniLat;\n",
      "                wgs:longitude ?uniLon.\n",
      "                \n",
      "    FILTER contains(?uniName, 'Berlin').}\n",
      "{'head': {'vars': ['uniName', 'uniLat', 'uniLon', 'uniURL']}, 'results': {'bindings': [{'uniName': {'type': 'literal', 'value': 'Freie Universität Berlin'}, 'uniURL': {'type': 'uri', 'value': 'https://www.fu-berlin.de/en'}, 'uniLat': {'datatype': 'http://www.w3.org/2001/XMLSchema#float', 'type': 'literal', 'value': '52.453056'}, 'uniLon': {'datatype': 'http://www.w3.org/2001/XMLSchema#float', 'type': 'literal', 'value': '13.290556'}}, {'uniName': {'type': 'literal', 'value': 'Humboldt-Universität zu Berlin'}, 'uniURL': {'type': 'uri', 'value': 'https://www.hu-berlin.de/?set_language=en&cl=en'}, 'uniLat': {'datatype': 'http://www.w3.org/2001/XMLSchema#float', 'type': 'literal', 'value': '52.518055'}, 'uniLon': {'datatype': 'http://www.w3.org/2001/XMLSchema#float', 'type': 'literal', 'value': '52.518055'}}, {'uniName': {'type': 'literal', 'value': 'Technische Universität Berlin'}, 'uniURL': {'type': 'uri', 'value': 'https://www.tu-berlin.de/menue/home/parameter/en/'}, 'uniLat': {'datatype': 'http://www.w3.org/2001/XMLSchema#float', 'type': 'literal', 'value': '52.511944'}, 'uniLon': {'datatype': 'http://www.w3.org/2001/XMLSchema#float', 'type': 'literal', 'value': '13.326389'}}]}}\n"
     ]
    },
    {
     "name": "stderr",
     "output_type": "stream",
     "text": [
      "127.0.0.1 - - [08/Sep/2019 21:54:07] \"OPTIONS /universities HTTP/1.1\" 200 -\n",
      "127.0.0.1 - - [08/Sep/2019 21:54:07] \"POST /universities HTTP/1.1\" 200 -\n"
     ]
    },
    {
     "name": "stdout",
     "output_type": "stream",
     "text": [
      "prefix geo: <http://www.opengis.net/ont/geosparql#>\n",
      "    prefix wgs: <http://www.w3.org/2003/01/geo/wgs84_pos#>\n",
      "    prefix geof: <http://www.opengis.net/def/function/geosparql/>\n",
      "    prefix unit: <http://qudt.org/vocab/unit#>\n",
      "    prefix star: <http://blog.stardog.com/geons/>\n",
      "    prefix sch: <http://schema.org/>\n",
      "    prefix httpsSch: <https://schema.org/>\n",
      "    prefix rdf: <http://www.w3.org/1999/02/22-rdf-syntax-ns#>\n",
      "    prefix xsd: <http://www.w3.org/2001/XMLSchema#>\n",
      "    SELECT DISTINCT ?uniName ?uniLat ?uniLon ?uniURL \n",
      "    WHERE {\n",
      "        ?uni sch:name ?uniName;\n",
      "            httpsSch:hasOfferCatalog ?subjects;\n",
      "            httpsSch:url ?uniURL;\n",
      "            geo:hasGeometry ?uniGeo.\n",
      "        ?uniGeo wgs:latitude ?uniLat;\n",
      "                wgs:longitude ?uniLon.\n",
      "                \n",
      "    FILTER contains(?subjects, 'Sportwissenschaften').}\n",
      "{'head': {'vars': ['uniName', 'uniLat', 'uniLon', 'uniURL']}, 'results': {'bindings': []}}\n"
     ]
    },
    {
     "name": "stderr",
     "output_type": "stream",
     "text": [
      "127.0.0.1 - - [08/Sep/2019 21:54:11] \"OPTIONS /universities HTTP/1.1\" 200 -\n",
      "127.0.0.1 - - [08/Sep/2019 21:54:12] \"POST /universities HTTP/1.1\" 200 -\n"
     ]
    },
    {
     "name": "stdout",
     "output_type": "stream",
     "text": [
      "prefix geo: <http://www.opengis.net/ont/geosparql#>\n",
      "    prefix wgs: <http://www.w3.org/2003/01/geo/wgs84_pos#>\n",
      "    prefix geof: <http://www.opengis.net/def/function/geosparql/>\n",
      "    prefix unit: <http://qudt.org/vocab/unit#>\n",
      "    prefix star: <http://blog.stardog.com/geons/>\n",
      "    prefix sch: <http://schema.org/>\n",
      "    prefix httpsSch: <https://schema.org/>\n",
      "    prefix rdf: <http://www.w3.org/1999/02/22-rdf-syntax-ns#>\n",
      "    prefix xsd: <http://www.w3.org/2001/XMLSchema#>\n",
      "    SELECT DISTINCT ?uniName ?uniLat ?uniLon ?uniURL \n",
      "    WHERE {\n",
      "        ?uni sch:name ?uniName;\n",
      "            httpsSch:hasOfferCatalog ?subjects;\n",
      "            httpsSch:url ?uniURL;\n",
      "            geo:hasGeometry ?uniGeo.\n",
      "        ?uniGeo wgs:latitude ?uniLat;\n",
      "                wgs:longitude ?uniLon.\n",
      "                \n",
      "    FILTER contains(?subjects, 'Sport').}\n",
      "{'head': {'vars': ['uniName', 'uniLat', 'uniLon', 'uniURL']}, 'results': {'bindings': [{'uniName': {'type': 'literal', 'value': 'Technische Universität München'}, 'uniURL': {'type': 'uri', 'value': 'http://www.tum.de'}, 'uniLat': {'datatype': 'http://www.w3.org/2001/XMLSchema#float', 'type': 'literal', 'value': '48.148056'}, 'uniLon': {'datatype': 'http://www.w3.org/2001/XMLSchema#float', 'type': 'literal', 'value': '11.568055'}}, {'uniName': {'type': 'literal', 'value': 'Ruprecht-Karls-Universität Heidelberg'}, 'uniURL': {'type': 'uri', 'value': 'https://www.uni-heidelberg.de/en'}, 'uniLat': {'datatype': 'http://www.w3.org/2001/XMLSchema#float', 'type': 'literal', 'value': '49.41028'}, 'uniLon': {'datatype': 'http://www.w3.org/2001/XMLSchema#float', 'type': 'literal', 'value': '8.706388'}}, {'uniName': {'type': 'literal', 'value': 'Humboldt-Universität zu Berlin'}, 'uniURL': {'type': 'uri', 'value': 'https://www.hu-berlin.de/?set_language=en&cl=en'}, 'uniLat': {'datatype': 'http://www.w3.org/2001/XMLSchema#float', 'type': 'literal', 'value': '52.518055'}, 'uniLon': {'datatype': 'http://www.w3.org/2001/XMLSchema#float', 'type': 'literal', 'value': '52.518055'}}, {'uniName': {'type': 'literal', 'value': 'Universität Hamburg'}, 'uniURL': {'type': 'uri', 'value': 'https://www.uni-hamburg.de/en/'}, 'uniLat': {'datatype': 'http://www.w3.org/2001/XMLSchema#float', 'type': 'literal', 'value': '53.566944'}, 'uniLon': {'datatype': 'http://www.w3.org/2001/XMLSchema#float', 'type': 'literal', 'value': '9.983889'}}, {'uniName': {'type': 'literal', 'value': 'Karlsruher Institut für Technologie'}, 'uniURL': {'type': 'uri', 'value': 'https://www.kit.edu/english/'}, 'uniLat': {'datatype': 'http://www.w3.org/2001/XMLSchema#float', 'type': 'literal', 'value': '49.009445'}, 'uniLon': {'datatype': 'http://www.w3.org/2001/XMLSchema#float', 'type': 'literal', 'value': '8.411667'}}, {'uniName': {'type': 'literal', 'value': 'Friedrich-Alexander-Universität Erlangen-Nürnberg'}, 'uniURL': {'type': 'uri', 'value': 'http://fau.eu/'}, 'uniLat': {'datatype': 'http://www.w3.org/2001/XMLSchema#float', 'type': 'literal', 'value': '49.597916'}, 'uniLon': {'datatype': 'http://www.w3.org/2001/XMLSchema#float', 'type': 'literal', 'value': '11.004769'}}, {'uniName': {'type': 'literal', 'value': 'Universität Konstanz'}, 'uniURL': {'type': 'uri', 'value': 'https://www.uni-konstanz.de/en/'}, 'uniLat': {'datatype': 'http://www.w3.org/2001/XMLSchema#float', 'type': 'literal', 'value': '47.69'}, 'uniLon': {'datatype': 'http://www.w3.org/2001/XMLSchema#float', 'type': 'literal', 'value': '9.188'}}, {'uniName': {'type': 'literal', 'value': 'Universität Bielefeld'}, 'uniURL': {'type': 'uri', 'value': 'https://www.uni-bielefeld.de/(en)/index.html'}, 'uniLat': {'datatype': 'http://www.w3.org/2001/XMLSchema#float', 'type': 'literal', 'value': '52.037777'}, 'uniLon': {'datatype': 'http://www.w3.org/2001/XMLSchema#float', 'type': 'literal', 'value': '8.493055'}}, {'uniName': {'type': 'literal', 'value': 'Christian-Albrechts-Universität zu Kiel'}, 'uniURL': {'type': 'uri', 'value': 'https://www.uni-kiel.de/index-e.shtml'}, 'uniLat': {'datatype': 'http://www.w3.org/2001/XMLSchema#float', 'type': 'literal', 'value': '54.33889'}, 'uniLon': {'datatype': 'http://www.w3.org/2001/XMLSchema#float', 'type': 'literal', 'value': '10.1225'}}, {'uniName': {'type': 'literal', 'value': 'Universität Passau'}, 'uniURL': {'type': 'uri', 'value': 'http://www.uni-passau.de/en/'}, 'uniLat': {'datatype': 'http://www.w3.org/2001/XMLSchema#float', 'type': 'literal', 'value': '48.568333'}, 'uniLon': {'datatype': 'http://www.w3.org/2001/XMLSchema#float', 'type': 'literal', 'value': '13.453333'}}, {'uniName': {'type': 'literal', 'value': 'Johann Wolfgang Goethe-Universität Frankfurt am Main'}, 'uniURL': {'type': 'uri', 'value': 'http://www.goethe-university-frankfurt.de/'}, 'uniLat': {'datatype': 'http://www.w3.org/2001/XMLSchema#float', 'type': 'literal', 'value': '50.127777'}, 'uniLon': {'datatype': 'http://www.w3.org/2001/XMLSchema#float', 'type': 'literal', 'value': '8.666667'}}, {'uniName': {'type': 'literal', 'value': 'Ruhr-Universität Bochum'}, 'uniURL': {'type': 'uri', 'value': 'https://www.ruhr-uni-bochum.de/index_en.htm'}, 'uniLat': {'datatype': 'http://www.w3.org/2001/XMLSchema#float', 'type': 'literal', 'value': '51.44389'}, 'uniLon': {'datatype': 'http://www.w3.org/2001/XMLSchema#float', 'type': 'literal', 'value': '7.261667'}}, {'uniName': {'type': 'literal', 'value': 'Universität Stuttgart'}, 'uniURL': {'type': 'uri', 'value': 'https://www.uni-stuttgart.de/home/index.en.html'}, 'uniLat': {'datatype': 'http://www.w3.org/2001/XMLSchema#float', 'type': 'literal', 'value': '48.781666'}, 'uniLon': {'datatype': 'http://www.w3.org/2001/XMLSchema#float', 'type': 'literal', 'value': '9.175278'}}, {'uniName': {'type': 'literal', 'value': 'Technische Universität Darmstadt'}, 'uniURL': {'type': 'uri', 'value': 'https://www.tu-darmstadt.de/index.en.jsp'}, 'uniLat': {'datatype': 'http://www.w3.org/2001/XMLSchema#float', 'type': 'literal', 'value': '49.874996'}, 'uniLon': {'datatype': 'http://www.w3.org/2001/XMLSchema#float', 'type': 'literal', 'value': '8.656517'}}, {'uniName': {'type': 'literal', 'value': 'Justus-Liebig-Universität Gießen'}, 'uniURL': {'type': 'uri', 'value': 'https://www.uni-giessen.de/cms/welcome?set_language=en'}, 'uniLat': {'datatype': 'http://www.w3.org/2001/XMLSchema#float', 'type': 'literal', 'value': '50.580833'}, 'uniLon': {'datatype': 'http://www.w3.org/2001/XMLSchema#float', 'type': 'literal', 'value': '8.676389'}}, {'uniName': {'type': 'literal', 'value': 'Technische Universität Kaiserslautern'}, 'uniURL': {'type': 'uri', 'value': 'https://www.uni-kl.de/en/home/'}, 'uniLat': {'datatype': 'http://www.w3.org/2001/XMLSchema#float', 'type': 'literal', 'value': '49.42389'}, 'uniLon': {'datatype': 'http://www.w3.org/2001/XMLSchema#float', 'type': 'literal', 'value': '7.7530556'}}, {'uniName': {'type': 'literal', 'value': 'Technische Universität Chemnitz'}, 'uniURL': {'type': 'uri', 'value': 'http://www.tu-chemnitz.de/'}, 'uniLat': {'datatype': 'http://www.w3.org/2001/XMLSchema#float', 'type': 'literal', 'value': '50.81361'}, 'uniLon': {'datatype': 'http://www.w3.org/2001/XMLSchema#float', 'type': 'literal', 'value': '12.929167'}}, {'uniName': {'type': 'literal', 'value': 'Albert-Ludwigs-Universität Freiburg'}, 'uniURL': {'type': 'uri', 'value': 'https://www.uni-freiburg.de/start-en.html?set_language=en'}, 'uniLat': {'datatype': 'http://www.w3.org/2001/XMLSchema#float', 'type': 'literal', 'value': '47.994167'}, 'uniLon': {'datatype': 'http://www.w3.org/2001/XMLSchema#float', 'type': 'literal', 'value': '7.8469443'}}, {'uniName': {'type': 'literal', 'value': 'Eberhard Karls Universität Tübingen'}, 'uniURL': {'type': 'uri', 'value': 'https://uni-tuebingen.de/en'}, 'uniLat': {'datatype': 'http://www.w3.org/2001/XMLSchema#float', 'type': 'literal', 'value': '48.525'}, 'uniLon': {'datatype': 'http://www.w3.org/2001/XMLSchema#float', 'type': 'literal', 'value': '9.059'}}, {'uniName': {'type': 'literal', 'value': 'Georg-August-Universität Göttingen'}, 'uniURL': {'type': 'uri', 'value': 'https://www.uni-goettingen.de/en/1.html'}, 'uniLat': {'datatype': 'http://www.w3.org/2001/XMLSchema#float', 'type': 'literal', 'value': '51.541943'}, 'uniLon': {'datatype': 'http://www.w3.org/2001/XMLSchema#float', 'type': 'literal', 'value': '9.934444'}}, {'uniName': {'type': 'literal', 'value': 'Julius-Maximilians-Universität Würzburg'}, 'uniURL': {'type': 'uri', 'value': 'https://www.uni-wuerzburg.de/en/home/'}, 'uniLat': {'datatype': 'http://www.w3.org/2001/XMLSchema#float', 'type': 'literal', 'value': '49.788055'}, 'uniLon': {'datatype': 'http://www.w3.org/2001/XMLSchema#float', 'type': 'literal', 'value': '9.935278'}}, {'uniName': {'type': 'literal', 'value': 'Westfälische Wilhelms-Universität'}, 'uniURL': {'type': 'uri', 'value': 'https://www.uni-muenster.de/en/'}, 'uniLat': {'datatype': 'http://www.w3.org/2001/XMLSchema#float', 'type': 'literal', 'value': '51.964'}, 'uniLon': {'datatype': 'http://www.w3.org/2001/XMLSchema#float', 'type': 'literal', 'value': '7.613'}}, {'uniName': {'type': 'literal', 'value': 'Universität Potsdam'}, 'uniURL': {'type': 'uri', 'value': 'https://www.uni-potsdam.de/en/university-of-potsdam.html'}, 'uniLat': {'datatype': 'http://www.w3.org/2001/XMLSchema#float', 'type': 'literal', 'value': '52.40111'}, 'uniLon': {'datatype': 'http://www.w3.org/2001/XMLSchema#float', 'type': 'literal', 'value': '13.011945'}}, {'uniName': {'type': 'literal', 'value': 'Johannes Gutenberg-Universität Mainz'}, 'uniURL': {'type': 'uri', 'value': 'https://www.uni-mainz.de/eng/'}, 'uniLat': {'datatype': 'http://www.w3.org/2001/XMLSchema#float', 'type': 'literal', 'value': '49.993057'}, 'uniLon': {'datatype': 'http://www.w3.org/2001/XMLSchema#float', 'type': 'literal', 'value': '8.241667'}}, {'uniName': {'type': 'literal', 'value': 'Philipps-Universität Marburg'}, 'uniURL': {'type': 'uri', 'value': 'https://www.uni-marburg.de/en'}, 'uniLat': {'datatype': 'http://www.w3.org/2001/XMLSchema#float', 'type': 'literal', 'value': '50.810833'}, 'uniLon': {'datatype': 'http://www.w3.org/2001/XMLSchema#float', 'type': 'literal', 'value': '8.773611'}}, {'uniName': {'type': 'literal', 'value': 'Universität Bayreuth'}, 'uniURL': {'type': 'uri', 'value': 'https://www.uni-bayreuth.de/de/index.html'}, 'uniLat': {'datatype': 'http://www.w3.org/2001/XMLSchema#float', 'type': 'literal', 'value': '49.92889'}, 'uniLon': {'datatype': 'http://www.w3.org/2001/XMLSchema#float', 'type': 'literal', 'value': '11.585834'}}, {'uniName': {'type': 'literal', 'value': 'Technische Universität Dortmund'}, 'uniURL': {'type': 'uri', 'value': 'https://www.tu-dortmund.de/'}, 'uniLat': {'datatype': 'http://www.w3.org/2001/XMLSchema#float', 'type': 'literal', 'value': '51.4925'}, 'uniLon': {'datatype': 'http://www.w3.org/2001/XMLSchema#float', 'type': 'literal', 'value': '7.4141665'}}, {'uniName': {'type': 'literal', 'value': 'Gottfried Wilhelm Leibniz Universität Hannover'}, 'uniURL': {'type': 'uri', 'value': 'https://www.uni-hannover.de/en/'}, 'uniLat': {'datatype': 'http://www.w3.org/2001/XMLSchema#float', 'type': 'literal', 'value': '52.382214'}, 'uniLon': {'datatype': 'http://www.w3.org/2001/XMLSchema#float', 'type': 'literal', 'value': '9.717728'}}, {'uniName': {'type': 'literal', 'value': 'Otto-von-Guericke-Universität Magdeburg'}, 'uniURL': {'type': 'uri', 'value': 'https://www.uni-magdeburg.de/unimagdeburg/en/'}, 'uniLat': {'datatype': 'http://www.w3.org/2001/XMLSchema#float', 'type': 'literal', 'value': '52.14'}, 'uniLon': {'datatype': 'http://www.w3.org/2001/XMLSchema#float', 'type': 'literal', 'value': '11.643'}}]}}\n"
     ]
    },
    {
     "name": "stderr",
     "output_type": "stream",
     "text": [
      "127.0.0.1 - - [08/Sep/2019 21:55:08] \"OPTIONS /universities HTTP/1.1\" 200 -\n",
      "127.0.0.1 - - [08/Sep/2019 21:55:08] \"POST /universities HTTP/1.1\" 200 -\n"
     ]
    },
    {
     "name": "stdout",
     "output_type": "stream",
     "text": [
      "prefix geo: <http://www.opengis.net/ont/geosparql#>\n",
      "    prefix wgs: <http://www.w3.org/2003/01/geo/wgs84_pos#>\n",
      "    prefix geof: <http://www.opengis.net/def/function/geosparql/>\n",
      "    prefix unit: <http://qudt.org/vocab/unit#>\n",
      "    prefix star: <http://blog.stardog.com/geons/>\n",
      "    prefix sch: <http://schema.org/>\n",
      "    prefix httpsSch: <https://schema.org/>\n",
      "    prefix rdf: <http://www.w3.org/1999/02/22-rdf-syntax-ns#>\n",
      "    prefix xsd: <http://www.w3.org/2001/XMLSchema#>\n",
      "    SELECT DISTINCT ?uniName ?uniLat ?uniLon ?uniURL \n",
      "    WHERE {\n",
      "        ?uni sch:name ?uniName;\n",
      "            httpsSch:hasOfferCatalog ?subjects;\n",
      "            httpsSch:url ?uniURL;\n",
      "            geo:hasGeometry ?uniGeo.\n",
      "        ?uniGeo wgs:latitude ?uniLat;\n",
      "                wgs:longitude ?uniLon.\n",
      "                \n",
      "    FILTER contains(?uniName, 'University of').FILTER contains(?subjects, 'Sport').}\n",
      "{'head': {'vars': ['uniName', 'uniLat', 'uniLon', 'uniURL']}, 'results': {'bindings': []}}\n"
     ]
    },
    {
     "name": "stderr",
     "output_type": "stream",
     "text": [
      "127.0.0.1 - - [08/Sep/2019 21:55:11] \"OPTIONS /universities HTTP/1.1\" 200 -\n",
      "127.0.0.1 - - [08/Sep/2019 21:55:11] \"POST /universities HTTP/1.1\" 200 -\n"
     ]
    },
    {
     "name": "stdout",
     "output_type": "stream",
     "text": [
      "prefix geo: <http://www.opengis.net/ont/geosparql#>\n",
      "    prefix wgs: <http://www.w3.org/2003/01/geo/wgs84_pos#>\n",
      "    prefix geof: <http://www.opengis.net/def/function/geosparql/>\n",
      "    prefix unit: <http://qudt.org/vocab/unit#>\n",
      "    prefix star: <http://blog.stardog.com/geons/>\n",
      "    prefix sch: <http://schema.org/>\n",
      "    prefix httpsSch: <https://schema.org/>\n",
      "    prefix rdf: <http://www.w3.org/1999/02/22-rdf-syntax-ns#>\n",
      "    prefix xsd: <http://www.w3.org/2001/XMLSchema#>\n",
      "    SELECT DISTINCT ?uniName ?uniLat ?uniLon ?uniURL \n",
      "    WHERE {\n",
      "        ?uni sch:name ?uniName;\n",
      "            httpsSch:hasOfferCatalog ?subjects;\n",
      "            httpsSch:url ?uniURL;\n",
      "            geo:hasGeometry ?uniGeo.\n",
      "        ?uniGeo wgs:latitude ?uniLat;\n",
      "                wgs:longitude ?uniLon.\n",
      "                \n",
      "    FILTER contains(?uniName, 'University of').}\n",
      "{'head': {'vars': ['uniName', 'uniLat', 'uniLon', 'uniURL']}, 'results': {'bindings': []}}\n"
     ]
    },
    {
     "name": "stderr",
     "output_type": "stream",
     "text": [
      "127.0.0.1 - - [08/Sep/2019 21:55:23] \"OPTIONS /universities HTTP/1.1\" 200 -\n",
      "127.0.0.1 - - [08/Sep/2019 21:55:24] \"POST /universities HTTP/1.1\" 200 -\n"
     ]
    },
    {
     "name": "stdout",
     "output_type": "stream",
     "text": [
      "prefix geo: <http://www.opengis.net/ont/geosparql#>\n",
      "    prefix wgs: <http://www.w3.org/2003/01/geo/wgs84_pos#>\n",
      "    prefix geof: <http://www.opengis.net/def/function/geosparql/>\n",
      "    prefix unit: <http://qudt.org/vocab/unit#>\n",
      "    prefix star: <http://blog.stardog.com/geons/>\n",
      "    prefix sch: <http://schema.org/>\n",
      "    prefix httpsSch: <https://schema.org/>\n",
      "    prefix rdf: <http://www.w3.org/1999/02/22-rdf-syntax-ns#>\n",
      "    prefix xsd: <http://www.w3.org/2001/XMLSchema#>\n",
      "    SELECT DISTINCT ?uniName ?uniLat ?uniLon ?uniURL \n",
      "    WHERE {\n",
      "        ?uni sch:name ?uniName;\n",
      "            httpsSch:hasOfferCatalog ?subjects;\n",
      "            httpsSch:url ?uniURL;\n",
      "            geo:hasGeometry ?uniGeo.\n",
      "        ?uniGeo wgs:latitude ?uniLat;\n",
      "                wgs:longitude ?uniLon.\n",
      "                \n",
      "    }\n",
      "{'head': {'vars': ['uniName', 'uniLat', 'uniLon', 'uniURL']}, 'results': {'bindings': [{'uniName': {'type': 'literal', 'value': 'Freie Universität Berlin'}, 'uniURL': {'type': 'uri', 'value': 'https://www.fu-berlin.de/en'}, 'uniLat': {'datatype': 'http://www.w3.org/2001/XMLSchema#float', 'type': 'literal', 'value': '52.453056'}, 'uniLon': {'datatype': 'http://www.w3.org/2001/XMLSchema#float', 'type': 'literal', 'value': '13.290556'}}, {'uniName': {'type': 'literal', 'value': 'Ludwig-Maximilians-Universität München'}, 'uniURL': {'type': 'uri', 'value': 'https://www.en.uni-muenchen.de/index.html'}, 'uniLat': {'datatype': 'http://www.w3.org/2001/XMLSchema#float', 'type': 'literal', 'value': '48.150833'}, 'uniLon': {'datatype': 'http://www.w3.org/2001/XMLSchema#float', 'type': 'literal', 'value': '11.580277'}}, {'uniName': {'type': 'literal', 'value': 'Technische Universität München'}, 'uniURL': {'type': 'uri', 'value': 'http://www.tum.de'}, 'uniLat': {'datatype': 'http://www.w3.org/2001/XMLSchema#float', 'type': 'literal', 'value': '48.148056'}, 'uniLon': {'datatype': 'http://www.w3.org/2001/XMLSchema#float', 'type': 'literal', 'value': '11.568055'}}, {'uniName': {'type': 'literal', 'value': 'Ruprecht-Karls-Universität Heidelberg'}, 'uniURL': {'type': 'uri', 'value': 'https://www.uni-heidelberg.de/en'}, 'uniLat': {'datatype': 'http://www.w3.org/2001/XMLSchema#float', 'type': 'literal', 'value': '49.41028'}, 'uniLon': {'datatype': 'http://www.w3.org/2001/XMLSchema#float', 'type': 'literal', 'value': '8.706388'}}, {'uniName': {'type': 'literal', 'value': 'Humboldt-Universität zu Berlin'}, 'uniURL': {'type': 'uri', 'value': 'https://www.hu-berlin.de/?set_language=en&cl=en'}, 'uniLat': {'datatype': 'http://www.w3.org/2001/XMLSchema#float', 'type': 'literal', 'value': '52.518055'}, 'uniLon': {'datatype': 'http://www.w3.org/2001/XMLSchema#float', 'type': 'literal', 'value': '52.518055'}}, {'uniName': {'type': 'literal', 'value': 'Charité'}, 'uniURL': {'type': 'uri', 'value': 'http://www.charite.de/en/charite'}, 'uniLat': {'datatype': 'http://www.w3.org/2001/XMLSchema#float', 'type': 'literal', 'value': '52.52667'}, 'uniLon': {'datatype': 'http://www.w3.org/2001/XMLSchema#float', 'type': 'literal', 'value': '13.379723'}}, {'uniName': {'type': 'literal', 'value': 'Rheinische Friedrich-Wilhelms-Universität Bonn'}, 'uniURL': {'type': 'uri', 'value': 'http://www3.uni-bonn.de/news-1?set_language=en'}, 'uniLat': {'datatype': 'http://www.w3.org/2001/XMLSchema#float', 'type': 'literal', 'value': '50.73389'}, 'uniLon': {'datatype': 'http://www.w3.org/2001/XMLSchema#float', 'type': 'literal', 'value': '7.1022224'}}, {'uniName': {'type': 'literal', 'value': 'Universität Mannheim'}, 'uniURL': {'type': 'uri', 'value': 'https://www.uni-mannheim.de/1/english/'}, 'uniLat': {'datatype': 'http://www.w3.org/2001/XMLSchema#float', 'type': 'literal', 'value': '49.4832'}, 'uniLon': {'datatype': 'http://www.w3.org/2001/XMLSchema#float', 'type': 'literal', 'value': '8.4647'}}, {'uniName': {'type': 'literal', 'value': 'Technische Universität Berlin'}, 'uniURL': {'type': 'uri', 'value': 'https://www.tu-berlin.de/menue/home/parameter/en/'}, 'uniLat': {'datatype': 'http://www.w3.org/2001/XMLSchema#float', 'type': 'literal', 'value': '52.511944'}, 'uniLon': {'datatype': 'http://www.w3.org/2001/XMLSchema#float', 'type': 'literal', 'value': '13.326389'}}, {'uniName': {'type': 'literal', 'value': 'Universität Hamburg'}, 'uniURL': {'type': 'uri', 'value': 'https://www.uni-hamburg.de/en/'}, 'uniLat': {'datatype': 'http://www.w3.org/2001/XMLSchema#float', 'type': 'literal', 'value': '53.566944'}, 'uniLon': {'datatype': 'http://www.w3.org/2001/XMLSchema#float', 'type': 'literal', 'value': '9.983889'}}, {'uniName': {'type': 'literal', 'value': 'Karlsruher Institut für Technologie'}, 'uniURL': {'type': 'uri', 'value': 'https://www.kit.edu/english/'}, 'uniLat': {'datatype': 'http://www.w3.org/2001/XMLSchema#float', 'type': 'literal', 'value': '49.009445'}, 'uniLon': {'datatype': 'http://www.w3.org/2001/XMLSchema#float', 'type': 'literal', 'value': '8.411667'}}, {'uniName': {'type': 'literal', 'value': 'Universität zu Köln'}, 'uniURL': {'type': 'uri', 'value': 'http://www.portal.uni-koeln.de/uoc_home.html?&L=1'}, 'uniLat': {'datatype': 'http://www.w3.org/2001/XMLSchema#float', 'type': 'literal', 'value': '50.928055'}, 'uniLon': {'datatype': 'http://www.w3.org/2001/XMLSchema#float', 'type': 'literal', 'value': '6.9286113'}}, {'uniName': {'type': 'literal', 'value': 'Friedrich-Alexander-Universität Erlangen-Nürnberg'}, 'uniURL': {'type': 'uri', 'value': 'http://fau.eu/'}, 'uniLat': {'datatype': 'http://www.w3.org/2001/XMLSchema#float', 'type': 'literal', 'value': '49.597916'}, 'uniLon': {'datatype': 'http://www.w3.org/2001/XMLSchema#float', 'type': 'literal', 'value': '11.004769'}}, {'uniName': {'type': 'literal', 'value': 'Universität Konstanz'}, 'uniURL': {'type': 'uri', 'value': 'https://www.uni-konstanz.de/en/'}, 'uniLat': {'datatype': 'http://www.w3.org/2001/XMLSchema#float', 'type': 'literal', 'value': '47.69'}, 'uniLon': {'datatype': 'http://www.w3.org/2001/XMLSchema#float', 'type': 'literal', 'value': '9.188'}}, {'uniName': {'type': 'literal', 'value': 'Universität Bielefeld'}, 'uniURL': {'type': 'uri', 'value': 'https://www.uni-bielefeld.de/(en)/index.html'}, 'uniLat': {'datatype': 'http://www.w3.org/2001/XMLSchema#float', 'type': 'literal', 'value': '52.037777'}, 'uniLon': {'datatype': 'http://www.w3.org/2001/XMLSchema#float', 'type': 'literal', 'value': '8.493055'}}, {'uniName': {'type': 'literal', 'value': 'Universität Hohenheim'}, 'uniURL': {'type': 'uri', 'value': 'https://www.uni-hohenheim.de/english'}, 'uniLat': {'datatype': 'http://www.w3.org/2001/XMLSchema#float', 'type': 'literal', 'value': '48.7114'}, 'uniLon': {'datatype': 'http://www.w3.org/2001/XMLSchema#float', 'type': 'literal', 'value': '9.2095'}}, {'uniName': {'type': 'literal', 'value': 'Christian-Albrechts-Universität zu Kiel'}, 'uniURL': {'type': 'uri', 'value': 'https://www.uni-kiel.de/index-e.shtml'}, 'uniLat': {'datatype': 'http://www.w3.org/2001/XMLSchema#float', 'type': 'literal', 'value': '54.33889'}, 'uniLon': {'datatype': 'http://www.w3.org/2001/XMLSchema#float', 'type': 'literal', 'value': '10.1225'}}, {'uniName': {'type': 'literal', 'value': 'Universität Passau'}, 'uniURL': {'type': 'uri', 'value': 'http://www.uni-passau.de/en/'}, 'uniLat': {'datatype': 'http://www.w3.org/2001/XMLSchema#float', 'type': 'literal', 'value': '48.568333'}, 'uniLon': {'datatype': 'http://www.w3.org/2001/XMLSchema#float', 'type': 'literal', 'value': '13.453333'}}, {'uniName': {'type': 'literal', 'value': 'Johann Wolfgang Goethe-Universität Frankfurt am Main'}, 'uniURL': {'type': 'uri', 'value': 'http://www.goethe-university-frankfurt.de/'}, 'uniLat': {'datatype': 'http://www.w3.org/2001/XMLSchema#float', 'type': 'literal', 'value': '50.127777'}, 'uniLon': {'datatype': 'http://www.w3.org/2001/XMLSchema#float', 'type': 'literal', 'value': '8.666667'}}, {'uniName': {'type': 'literal', 'value': 'Jacobs University Bremen'}, 'uniURL': {'type': 'uri', 'value': 'http://www.jacobs-university.de'}, 'uniLat': {'datatype': 'http://www.w3.org/2001/XMLSchema#float', 'type': 'literal', 'value': '53.166668'}, 'uniLon': {'datatype': 'http://www.w3.org/2001/XMLSchema#float', 'type': 'literal', 'value': '8.65'}}, {'uniName': {'type': 'literal', 'value': 'Ruhr-Universität Bochum'}, 'uniURL': {'type': 'uri', 'value': 'https://www.ruhr-uni-bochum.de/index_en.htm'}, 'uniLat': {'datatype': 'http://www.w3.org/2001/XMLSchema#float', 'type': 'literal', 'value': '51.44389'}, 'uniLon': {'datatype': 'http://www.w3.org/2001/XMLSchema#float', 'type': 'literal', 'value': '7.261667'}}, {'uniName': {'type': 'literal', 'value': 'Universität Stuttgart'}, 'uniURL': {'type': 'uri', 'value': 'https://www.uni-stuttgart.de/home/index.en.html'}, 'uniLat': {'datatype': 'http://www.w3.org/2001/XMLSchema#float', 'type': 'literal', 'value': '48.781666'}, 'uniLon': {'datatype': 'http://www.w3.org/2001/XMLSchema#float', 'type': 'literal', 'value': '9.175278'}}, {'uniName': {'type': 'literal', 'value': 'Technische Universität Darmstadt'}, 'uniURL': {'type': 'uri', 'value': 'https://www.tu-darmstadt.de/index.en.jsp'}, 'uniLat': {'datatype': 'http://www.w3.org/2001/XMLSchema#float', 'type': 'literal', 'value': '49.874996'}, 'uniLon': {'datatype': 'http://www.w3.org/2001/XMLSchema#float', 'type': 'literal', 'value': '8.656517'}}, {'uniName': {'type': 'literal', 'value': 'Justus-Liebig-Universität Gießen'}, 'uniURL': {'type': 'uri', 'value': 'https://www.uni-giessen.de/cms/welcome?set_language=en'}, 'uniLat': {'datatype': 'http://www.w3.org/2001/XMLSchema#float', 'type': 'literal', 'value': '50.580833'}, 'uniLon': {'datatype': 'http://www.w3.org/2001/XMLSchema#float', 'type': 'literal', 'value': '8.676389'}}, {'uniName': {'type': 'literal', 'value': 'Ernst-Moritz-Arndt-Universität Greifswald'}, 'uniURL': {'type': 'uri', 'value': 'http://www.uni-greifswald.de/?L=1'}, 'uniLat': {'datatype': 'http://www.w3.org/2001/XMLSchema#float', 'type': 'literal', 'value': '54.09464'}, 'uniLon': {'datatype': 'http://www.w3.org/2001/XMLSchema#float', 'type': 'literal', 'value': '13.374626'}}, {'uniName': {'type': 'literal', 'value': 'Technische Universität Hamburg-Harburg'}, 'uniURL': {'type': 'uri', 'value': 'http://www.tuhh.de/index_e.html'}, 'uniLat': {'datatype': 'http://www.w3.org/2001/XMLSchema#float', 'type': 'literal', 'value': '53.460835'}, 'uniLon': {'datatype': 'http://www.w3.org/2001/XMLSchema#float', 'type': 'literal', 'value': '9.969444'}}, {'uniName': {'type': 'literal', 'value': 'Technische Universität Kaiserslautern'}, 'uniURL': {'type': 'uri', 'value': 'https://www.uni-kl.de/en/home/'}, 'uniLat': {'datatype': 'http://www.w3.org/2001/XMLSchema#float', 'type': 'literal', 'value': '49.42389'}, 'uniLon': {'datatype': 'http://www.w3.org/2001/XMLSchema#float', 'type': 'literal', 'value': '7.7530556'}}, {'uniName': {'type': 'literal', 'value': 'Universität Siegen'}, 'uniURL': {'type': 'uri', 'value': 'https://www.uni-siegen.de/start/index.html.en?lang=en'}, 'uniLat': {'datatype': 'http://www.w3.org/2001/XMLSchema#float', 'type': 'literal', 'value': '50.906387'}, 'uniLon': {'datatype': 'http://www.w3.org/2001/XMLSchema#float', 'type': 'literal', 'value': '8.028334'}}, {'uniName': {'type': 'literal', 'value': 'Technische Universität Chemnitz'}, 'uniURL': {'type': 'uri', 'value': 'http://www.tu-chemnitz.de/'}, 'uniLat': {'datatype': 'http://www.w3.org/2001/XMLSchema#float', 'type': 'literal', 'value': '50.81361'}, 'uniLon': {'datatype': 'http://www.w3.org/2001/XMLSchema#float', 'type': 'literal', 'value': '12.929167'}}, {'uniName': {'type': 'literal', 'value': 'Technische Universität Ilmenau'}, 'uniURL': {'type': 'uri', 'value': 'https://www.tu-ilmenau.de/en/international/'}, 'uniLat': {'datatype': 'http://www.w3.org/2001/XMLSchema#float', 'type': 'literal', 'value': '50.681667'}, 'uniLon': {'datatype': 'http://www.w3.org/2001/XMLSchema#float', 'type': 'literal', 'value': '10.938889'}}, {'uniName': {'type': 'literal', 'value': 'Albert-Ludwigs-Universität Freiburg'}, 'uniURL': {'type': 'uri', 'value': 'https://www.uni-freiburg.de/start-en.html?set_language=en'}, 'uniLat': {'datatype': 'http://www.w3.org/2001/XMLSchema#float', 'type': 'literal', 'value': '47.994167'}, 'uniLon': {'datatype': 'http://www.w3.org/2001/XMLSchema#float', 'type': 'literal', 'value': '7.8469443'}}, {'uniName': {'type': 'literal', 'value': 'RWTH Aachen'}, 'uniURL': {'type': 'uri', 'value': 'http://www.rwth-aachen.de/cms/~a/root/?lidx=1'}, 'uniLat': {'datatype': 'http://www.w3.org/2001/XMLSchema#float', 'type': 'literal', 'value': '50.77778'}, 'uniLon': {'datatype': 'http://www.w3.org/2001/XMLSchema#float', 'type': 'literal', 'value': '6.0780554'}}, {'uniName': {'type': 'literal', 'value': 'Eberhard Karls Universität Tübingen'}, 'uniURL': {'type': 'uri', 'value': 'https://uni-tuebingen.de/en'}, 'uniLat': {'datatype': 'http://www.w3.org/2001/XMLSchema#float', 'type': 'literal', 'value': '48.525'}, 'uniLon': {'datatype': 'http://www.w3.org/2001/XMLSchema#float', 'type': 'literal', 'value': '9.059'}}, {'uniName': {'type': 'literal', 'value': 'Georg-August-Universität Göttingen'}, 'uniURL': {'type': 'uri', 'value': 'https://www.uni-goettingen.de/en/1.html'}, 'uniLat': {'datatype': 'http://www.w3.org/2001/XMLSchema#float', 'type': 'literal', 'value': '51.541943'}, 'uniLon': {'datatype': 'http://www.w3.org/2001/XMLSchema#float', 'type': 'literal', 'value': '9.934444'}}, {'uniName': {'type': 'literal', 'value': 'Universität Ulm'}, 'uniURL': {'type': 'uri', 'value': 'https://www.uni-ulm.de/'}, 'uniLat': {'datatype': 'http://www.w3.org/2001/XMLSchema#float', 'type': 'literal', 'value': '48.42328'}, 'uniLon': {'datatype': 'http://www.w3.org/2001/XMLSchema#float', 'type': 'literal', 'value': '9.95322'}}, {'uniName': {'type': 'literal', 'value': 'Technische Universität Dresden'}, 'uniURL': {'type': 'uri', 'value': 'https://tu-dresden.de/en'}, 'uniLat': {'datatype': 'http://www.w3.org/2001/XMLSchema#float', 'type': 'literal', 'value': '51.028057'}, 'uniLon': {'datatype': 'http://www.w3.org/2001/XMLSchema#float', 'type': 'literal', 'value': '13.726666'}}, {'uniName': {'type': 'literal', 'value': 'Julius-Maximilians-Universität Würzburg'}, 'uniURL': {'type': 'uri', 'value': 'https://www.uni-wuerzburg.de/en/home/'}, 'uniLat': {'datatype': 'http://www.w3.org/2001/XMLSchema#float', 'type': 'literal', 'value': '49.788055'}, 'uniLon': {'datatype': 'http://www.w3.org/2001/XMLSchema#float', 'type': 'literal', 'value': '9.935278'}}, {'uniName': {'type': 'literal', 'value': 'Westfälische Wilhelms-Universität'}, 'uniURL': {'type': 'uri', 'value': 'https://www.uni-muenster.de/en/'}, 'uniLat': {'datatype': 'http://www.w3.org/2001/XMLSchema#float', 'type': 'literal', 'value': '51.964'}, 'uniLon': {'datatype': 'http://www.w3.org/2001/XMLSchema#float', 'type': 'literal', 'value': '7.613'}}, {'uniName': {'type': 'literal', 'value': 'Universität Potsdam'}, 'uniURL': {'type': 'uri', 'value': 'https://www.uni-potsdam.de/en/university-of-potsdam.html'}, 'uniLat': {'datatype': 'http://www.w3.org/2001/XMLSchema#float', 'type': 'literal', 'value': '52.40111'}, 'uniLon': {'datatype': 'http://www.w3.org/2001/XMLSchema#float', 'type': 'literal', 'value': '13.011945'}}, {'uniName': {'type': 'literal', 'value': 'Universität Duisburg-Essen'}, 'uniURL': {'type': 'uri', 'value': 'https://www.uni-due.de/en/index.php'}, 'uniLat': {'datatype': 'http://www.w3.org/2001/XMLSchema#float', 'type': 'literal', 'value': '51.46361'}, 'uniLon': {'datatype': 'http://www.w3.org/2001/XMLSchema#float', 'type': 'literal', 'value': '7.00579'}}, {'uniName': {'type': 'literal', 'value': 'Universität Duisburg-Essen'}, 'uniURL': {'type': 'uri', 'value': 'https://www.uni-due.de/en/index.php'}, 'uniLat': {'datatype': 'http://www.w3.org/2001/XMLSchema#float', 'type': 'literal', 'value': '51.42753'}, 'uniLon': {'datatype': 'http://www.w3.org/2001/XMLSchema#float', 'type': 'literal', 'value': '6.80017'}}, {'uniName': {'type': 'literal', 'value': 'Johannes Gutenberg-Universität Mainz'}, 'uniURL': {'type': 'uri', 'value': 'https://www.uni-mainz.de/eng/'}, 'uniLat': {'datatype': 'http://www.w3.org/2001/XMLSchema#float', 'type': 'literal', 'value': '49.993057'}, 'uniLon': {'datatype': 'http://www.w3.org/2001/XMLSchema#float', 'type': 'literal', 'value': '8.241667'}}, {'uniName': {'type': 'literal', 'value': 'Philipps-Universität Marburg'}, 'uniURL': {'type': 'uri', 'value': 'https://www.uni-marburg.de/en'}, 'uniLat': {'datatype': 'http://www.w3.org/2001/XMLSchema#float', 'type': 'literal', 'value': '50.810833'}, 'uniLon': {'datatype': 'http://www.w3.org/2001/XMLSchema#float', 'type': 'literal', 'value': '8.773611'}}, {'uniName': {'type': 'literal', 'value': 'Universität Bayreuth'}, 'uniURL': {'type': 'uri', 'value': 'https://www.uni-bayreuth.de/de/index.html'}, 'uniLat': {'datatype': 'http://www.w3.org/2001/XMLSchema#float', 'type': 'literal', 'value': '49.92889'}, 'uniLon': {'datatype': 'http://www.w3.org/2001/XMLSchema#float', 'type': 'literal', 'value': '11.585834'}}, {'uniName': {'type': 'literal', 'value': 'Universität Bremen'}, 'uniURL': {'type': 'uri', 'value': 'https://www.uni-bremen.de/en.html'}, 'uniLat': {'datatype': 'http://www.w3.org/2001/XMLSchema#float', 'type': 'literal', 'value': '53.108612'}, 'uniLon': {'datatype': 'http://www.w3.org/2001/XMLSchema#float', 'type': 'literal', 'value': '8.853611'}}, {'uniName': {'type': 'literal', 'value': 'Technische Universität Dortmund'}, 'uniURL': {'type': 'uri', 'value': 'https://www.tu-dortmund.de/'}, 'uniLat': {'datatype': 'http://www.w3.org/2001/XMLSchema#float', 'type': 'literal', 'value': '51.4925'}, 'uniLon': {'datatype': 'http://www.w3.org/2001/XMLSchema#float', 'type': 'literal', 'value': '7.4141665'}}, {'uniName': {'type': 'literal', 'value': 'Gottfried Wilhelm Leibniz Universität Hannover'}, 'uniURL': {'type': 'uri', 'value': 'https://www.uni-hannover.de/en/'}, 'uniLat': {'datatype': 'http://www.w3.org/2001/XMLSchema#float', 'type': 'literal', 'value': '52.382214'}, 'uniLon': {'datatype': 'http://www.w3.org/2001/XMLSchema#float', 'type': 'literal', 'value': '9.717728'}}, {'uniName': {'type': 'literal', 'value': 'Otto-von-Guericke-Universität Magdeburg'}, 'uniURL': {'type': 'uri', 'value': 'https://www.uni-magdeburg.de/unimagdeburg/en/'}, 'uniLat': {'datatype': 'http://www.w3.org/2001/XMLSchema#float', 'type': 'literal', 'value': '52.14'}, 'uniLon': {'datatype': 'http://www.w3.org/2001/XMLSchema#float', 'type': 'literal', 'value': '11.643'}}]}}\n"
     ]
    }
   ],
   "source": [
    "# Klassen an entsprechende URLs binden\n",
    "api.add_resource(getData, '/universities')\n",
    "\n",
    "# Run für Testzwecke, startet auf localhost:5000\n",
    "if __name__ == \"__main__\":\n",
    "    app.run(port=4000)\n",
    "\n",
    "# Run für Dockercontainer, mit Portangabe\n",
    "#if __name__ == \"__main__\":\n",
    " #   parser = optparse.OptionParser(usage=\"python server.py -p \")\n",
    "  #  parser.add_option('-p', '--port', action='store', dest='port', help='The port to listen on.')\n",
    "   # (args, _) = parser.parse_args()\n",
    "    #if args.port == None:\n",
    "     #   print(\"Missing required argument: -p/--port\")\n",
    "      #  sys.exit(1)\n",
    "    #app.run(host='0.0.0.0', port=int(args.port), debug=False)"
   ]
  },
  {
   "cell_type": "code",
   "execution_count": null,
   "metadata": {},
   "outputs": [],
   "source": []
  },
  {
   "cell_type": "code",
   "execution_count": null,
   "metadata": {},
   "outputs": [],
   "source": []
  }
 ],
 "metadata": {
  "kernelspec": {
   "display_name": "Python 3",
   "language": "python",
   "name": "python3"
  },
  "language_info": {
   "codemirror_mode": {
    "name": "ipython",
    "version": 3
   },
   "file_extension": ".py",
   "mimetype": "text/x-python",
   "name": "python",
   "nbconvert_exporter": "python",
   "pygments_lexer": "ipython3",
   "version": "3.7.3"
  }
 },
 "nbformat": 4,
 "nbformat_minor": 2
}
