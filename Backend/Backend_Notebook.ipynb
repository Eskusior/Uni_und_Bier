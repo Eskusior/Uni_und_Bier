{
 "cells": [
  {
   "cell_type": "code",
   "execution_count": 1,
   "metadata": {},
   "outputs": [],
   "source": [
    "from flask import Flask, request\n",
    "from flask_restful import Resource, Api\n",
    "from flask_cors import CORS\n",
    "from sqlalchemy import create_engine\n",
    "from json import dumps\n",
    "from flask import jsonify, redirect\n",
    "import optparse\n",
    "import stardog\n",
    "\n",
    "app = Flask(__name__)\n",
    "cors = CORS(app, resources={r\"*\": {\"origins\": \"*\"}}) # CORS\n",
    "api = Api(app)\n",
    "\n",
    "conn_details = {\n",
    "    'endpoint': 'http://webengineering.ins.hs-anhalt.de:32196',\n",
    "    'username': 'admin',\n",
    "    'password': 'admin'\n",
    "}\n",
    "\n",
    "dbName = 'db1'"
   ]
  },
  {
   "cell_type": "code",
   "execution_count": 2,
   "metadata": {},
   "outputs": [],
   "source": [
    "# Klasse um Daten aus Stardog zu holen\n",
    "class getData(Resource):\n",
    "    def post(self):\n",
    "        if not request.json:\n",
    "            return jsonify({'status': 'could not get requested data', 'statuscode': 409})\n",
    "        else:\n",
    "            query = buildQueryFromJSON(request.json)\n",
    "            # Anfrage an Stardog\n",
    "            with stardog.Connection(dbName, **conn_details) as conn:\n",
    "                conn.begin()\n",
    "                print(query)\n",
    "                results = conn.select(query)\n",
    "                print(results)\n",
    "            return results\n",
    "\n",
    "# Query aus Daten des Forms zusammenbauen\n",
    "def buildQueryFromJSON(jsonData):\n",
    "    i = 1 # Hochzähler für Optionen\n",
    "    nameFilter = \"FILTER contains(?uniName, '\" + jsonData[\"uniName\"] +\"').\" # Filter für Uninamen\n",
    "    subjectFilter = \"FITLER contains(?subject, '\" + jsonData[\"subject\"] +\"').\" # Filter für Studiengang\n",
    "    groupByString = \"} GROUP BY ?uniName ?lat ?lon ?uniURL \" # Ende WHERE und Group By\n",
    "    havingString = \"\" # Leer, solange nicht klar, wieviele Zusatzoptionen ausgewählt sind\n",
    "    \n",
    "    # Prefixes\n",
    "    queryPart1 = \"\"\"prefix geo: <http://www.opengis.net/ont/geosparql#>\n",
    "    prefix wgs: <http://www.w3.org/2003/01/geo/wgs84_pos#>\n",
    "    prefix geof: <http://www.opengis.net/def/function/geosparql/>\n",
    "    prefix unit: <http://qudt.org/vocab/unit#>\n",
    "    prefix star: <http://blog.stardog.com/geons/>\n",
    "    prefix sch: <http://schema.org/>\n",
    "    prefix httpsSch: <https://schema.org/>\n",
    "    prefix rdf: <http://www.w3.org/1999/02/22-rdf-syntax-ns#>\n",
    "    prefix xsd: <http://www.w3.org/2001/XMLSchema#>\n",
    "    \"\"\"\n",
    "    # Selectanweisung\n",
    "    selectString = \"SELECT DISTINCT ?uniName ?lat ?lon ?uniURL \"\n",
    "    \n",
    "    # Where Anfang\n",
    "    queryPart2 = \"\"\"\n",
    "    WHERE {\n",
    "        ?uni sch:name ?uniName;\n",
    "            httpsSch:hasOfferCatalog ?subjects;\n",
    "            httpsSch:url ?uniURL;\n",
    "            sch:geo ?uniGeo.\n",
    "        ?uniGeo sch:latitude ?uniLat;\n",
    "                sch:longitude ?uniLon.\n",
    "        ?newGeoPoint rdf:type geo:Geometry;\n",
    "                     wgs:lat ?uniLat;\n",
    "                     wgs:lon ?uniLon.\n",
    "                \n",
    "    \"\"\"\n",
    "    \n",
    "    # Für jede Zusatzoption\n",
    "    for option in jsonData[\"extraOptions\"]:\n",
    "        # Variablen abspeichern\n",
    "        name = \"location\" + str(i)\n",
    "        count = option[\"count\"]\n",
    "        type = option[\"type\"]\n",
    "        perimeter = option[\"perimeter\"]\n",
    "        \n",
    "        # Wenn alle Felder ausgefüllt\n",
    "        if (name != '') and (count != 0) and (type != '') and (perimeter != ''):\n",
    "        \n",
    "            # Where für Option bauen\n",
    "            locationString = \"\"\"\n",
    "            ?\"\"\" + name + \"\"\" rdf:type star:Location;\n",
    "            rdf:type '\"\"\"+ type +\"\"\"';\n",
    "            geo:hasGeometry ?geom.\n",
    "            ?geom geof:nearby (?newGeoPoint \"\"\"+ perimeter +\"\"\" unit:Kilometer).\n",
    "            \"\"\"\n",
    "        \n",
    "            # An Where anhängen\n",
    "            queryPart2 += locationString\n",
    "            # An Group By und Select anhängen\n",
    "            groupByString += \"?\" + name + \" \"\n",
    "            selectString += \"?\" + name + \" \"\n",
    "        \n",
    "            # Je nach Zahl an Having anhängen\n",
    "            if(i == 1):\n",
    "                havingString = \"HAVING ((count(?\"+ name +\") >= \" + count + \")\"\n",
    "            elif i == 2:\n",
    "                havingString += \" && (count(?\"+ name +\") >= \" + count + \")\"\n",
    "            else:\n",
    "                havingString += \" && (count(?\"+ name +\") >= \" + count + \"))\"\n",
    "        else:\n",
    "            # Wenn Option nicht vollständig ausgefüllt\n",
    "            if(i == 3 and havingString != \"\"):\n",
    "                havingString += \")\"\n",
    "        i += 1 # Counter hoch\n",
    "    \n",
    "    # Uniname nicht leer\n",
    "    if jsonData[\"uniName\"] != '':\n",
    "        queryPart2 += nameFilter\n",
    "    \n",
    "    # Studiengang nicht leer\n",
    "    if jsonData[\"subject\"] != '':\n",
    "        queryPart2 += subjectFilter\n",
    "    \n",
    "    # Having nicht leer, also min eine Zusatzoption gefüllt\n",
    "    if(havingString != \"\"):\n",
    "        queryPart2 += groupByString\n",
    "        queryPart2 += havingString\n",
    "    else:\n",
    "        queryPart2 += \"}\" # ansonsten\n",
    "    \n",
    "    queryPart1 += selectString + queryPart2 # String zusammenfügen\n",
    "    \n",
    "    return queryPart1"
   ]
  },
  {
   "cell_type": "code",
   "execution_count": null,
   "metadata": {
    "scrolled": true
   },
   "outputs": [
    {
     "name": "stdout",
     "output_type": "stream",
     "text": [
      " * Serving Flask app \"__main__\" (lazy loading)\n",
      " * Environment: production\n",
      "   WARNING: Do not use the development server in a production environment.\n",
      "   Use a production WSGI server instead.\n",
      " * Debug mode: off\n"
     ]
    },
    {
     "name": "stderr",
     "output_type": "stream",
     "text": [
      " * Running on http://127.0.0.1:4000/ (Press CTRL+C to quit)\n",
      "127.0.0.1 - - [08/Sep/2019 17:54:58] \"OPTIONS /universities HTTP/1.1\" 200 -\n"
     ]
    },
    {
     "name": "stdout",
     "output_type": "stream",
     "text": [
      "prefix geo: <http://www.opengis.net/ont/geosparql#>\n",
      "    prefix wgs: <http://www.w3.org/2003/01/geo/wgs84_pos#>\n",
      "    prefix geof: <http://www.opengis.net/def/function/geosparql/>\n",
      "    prefix unit: <http://qudt.org/vocab/unit#>\n",
      "    prefix star: <http://blog.stardog.com/geons/>\n",
      "    prefix sch: <http://schema.org/>\n",
      "    prefix httpsSch: <https://schema.org/>\n",
      "    prefix rdf: <http://www.w3.org/1999/02/22-rdf-syntax-ns#>\n",
      "    prefix xsd: <http://www.w3.org/2001/XMLSchema#>\n",
      "    SELECT DISTINCT ?uniName ?lat ?lon ?uniURL ?location1 \n",
      "    WHERE {\n",
      "        ?uni sch:name ?uniName;\n",
      "            httpsSch:hasOfferCatalog ?subjects;\n",
      "            httpsSch:url ?uniURL;\n",
      "            sch:geo ?uniGeo.\n",
      "        ?uniGeo sch:latitude ?uniLat;\n",
      "                sch:longitude ?uniLon.\n",
      "        ?newGeoPoint rdf:type geo:Geometry;\n",
      "                     wgs:lat ?uniLat;\n",
      "                     wgs:lon ?uniLon.\n",
      "                \n",
      "    \n",
      "            ?location1 rdf:type star:Location;\n",
      "            rdf:type 'Restaurant';\n",
      "            geo:hasGeometry ?geom.\n",
      "            ?geom geof:nearby (?newGeoPoint 5 unit:Kilometer).\n",
      "            FILTER contains(?uniName, 'Berlin').} GROUP BY ?uniName ?lat ?lon ?uniURL ?location1 HAVING ((count(?location1) >= 1))\n"
     ]
    },
    {
     "name": "stderr",
     "output_type": "stream",
     "text": [
      "127.0.0.1 - - [08/Sep/2019 17:55:00] \"POST /universities HTTP/1.1\" 200 -\n"
     ]
    },
    {
     "name": "stdout",
     "output_type": "stream",
     "text": [
      "{'head': {'vars': ['uniName', 'lat', 'lon', 'uniURL', 'location1']}, 'results': {'bindings': []}}\n"
     ]
    },
    {
     "name": "stderr",
     "output_type": "stream",
     "text": [
      "127.0.0.1 - - [08/Sep/2019 17:55:20] \"OPTIONS /universities HTTP/1.1\" 200 -\n"
     ]
    },
    {
     "name": "stdout",
     "output_type": "stream",
     "text": [
      "prefix geo: <http://www.opengis.net/ont/geosparql#>\n",
      "    prefix wgs: <http://www.w3.org/2003/01/geo/wgs84_pos#>\n",
      "    prefix geof: <http://www.opengis.net/def/function/geosparql/>\n",
      "    prefix unit: <http://qudt.org/vocab/unit#>\n",
      "    prefix star: <http://blog.stardog.com/geons/>\n",
      "    prefix sch: <http://schema.org/>\n",
      "    prefix httpsSch: <https://schema.org/>\n",
      "    prefix rdf: <http://www.w3.org/1999/02/22-rdf-syntax-ns#>\n",
      "    prefix xsd: <http://www.w3.org/2001/XMLSchema#>\n",
      "    SELECT DISTINCT ?uniName ?lat ?lon ?uniURL \n",
      "    WHERE {\n",
      "        ?uni sch:name ?uniName;\n",
      "            httpsSch:hasOfferCatalog ?subjects;\n",
      "            httpsSch:url ?uniURL;\n",
      "            sch:geo ?uniGeo.\n",
      "        ?uniGeo sch:latitude ?uniLat;\n",
      "                sch:longitude ?uniLon.\n",
      "        ?newGeoPoint rdf:type geo:Geometry;\n",
      "                     wgs:lat ?uniLat;\n",
      "                     wgs:lon ?uniLon.\n",
      "                \n",
      "    }\n"
     ]
    },
    {
     "name": "stderr",
     "output_type": "stream",
     "text": [
      "127.0.0.1 - - [08/Sep/2019 17:55:23] \"POST /universities HTTP/1.1\" 200 -\n"
     ]
    },
    {
     "name": "stdout",
     "output_type": "stream",
     "text": [
      "{'head': {'vars': ['uniName', 'lat', 'lon', 'uniURL']}, 'results': {'bindings': []}}\n"
     ]
    },
    {
     "name": "stderr",
     "output_type": "stream",
     "text": [
      "127.0.0.1 - - [08/Sep/2019 17:56:01] \"OPTIONS /universities HTTP/1.1\" 200 -\n"
     ]
    },
    {
     "name": "stdout",
     "output_type": "stream",
     "text": [
      "prefix geo: <http://www.opengis.net/ont/geosparql#>\n",
      "    prefix wgs: <http://www.w3.org/2003/01/geo/wgs84_pos#>\n",
      "    prefix geof: <http://www.opengis.net/def/function/geosparql/>\n",
      "    prefix unit: <http://qudt.org/vocab/unit#>\n",
      "    prefix star: <http://blog.stardog.com/geons/>\n",
      "    prefix sch: <http://schema.org/>\n",
      "    prefix httpsSch: <https://schema.org/>\n",
      "    prefix rdf: <http://www.w3.org/1999/02/22-rdf-syntax-ns#>\n",
      "    prefix xsd: <http://www.w3.org/2001/XMLSchema#>\n",
      "    SELECT DISTINCT ?uniName ?lat ?lon ?uniURL ?location1 \n",
      "    WHERE {\n",
      "        ?uni sch:name ?uniName;\n",
      "            httpsSch:hasOfferCatalog ?subjects;\n",
      "            httpsSch:url ?uniURL;\n",
      "            sch:geo ?uniGeo.\n",
      "        ?uniGeo sch:latitude ?uniLat;\n",
      "                sch:longitude ?uniLon.\n",
      "        ?newGeoPoint rdf:type geo:Geometry;\n",
      "                     wgs:lat ?uniLat;\n",
      "                     wgs:lon ?uniLon.\n",
      "                \n",
      "    \n",
      "            ?location1 rdf:type star:Location;\n",
      "            rdf:type 'Restaurant';\n",
      "            geo:hasGeometry ?geom.\n",
      "            ?geom geof:nearby (?newGeoPoint 5 unit:Kilometer).\n",
      "            } GROUP BY ?uniName ?lat ?lon ?uniURL ?location1 HAVING ((count(?location1) >= 1))\n"
     ]
    },
    {
     "name": "stderr",
     "output_type": "stream",
     "text": [
      "127.0.0.1 - - [08/Sep/2019 17:56:02] \"POST /universities HTTP/1.1\" 200 -\n"
     ]
    },
    {
     "name": "stdout",
     "output_type": "stream",
     "text": [
      "{'head': {'vars': ['uniName', 'lat', 'lon', 'uniURL', 'location1']}, 'results': {'bindings': []}}\n"
     ]
    }
   ],
   "source": [
    "# Klassen an entsprechende URLs binden\n",
    "api.add_resource(getData, '/universities')\n",
    "\n",
    "# Run für Testzwecke, startet auf localhost:5000\n",
    "if __name__ == \"__main__\":\n",
    "    app.run(port=4000)\n",
    "\n",
    "# Run für Dockercontainer, mit Portangabe\n",
    "#if __name__ == \"__main__\":\n",
    " #   parser = optparse.OptionParser(usage=\"python server.py -p \")\n",
    "  #  parser.add_option('-p', '--port', action='store', dest='port', help='The port to listen on.')\n",
    "   # (args, _) = parser.parse_args()\n",
    "    #if args.port == None:\n",
    "     #   print(\"Missing required argument: -p/--port\")\n",
    "      #  sys.exit(1)\n",
    "    #app.run(host='0.0.0.0', port=int(args.port), debug=False)"
   ]
  },
  {
   "cell_type": "code",
   "execution_count": null,
   "metadata": {},
   "outputs": [],
   "source": []
  },
  {
   "cell_type": "code",
   "execution_count": null,
   "metadata": {},
   "outputs": [],
   "source": []
  }
 ],
 "metadata": {
  "kernelspec": {
   "display_name": "Python 3",
   "language": "python",
   "name": "python3"
  },
  "language_info": {
   "codemirror_mode": {
    "name": "ipython",
    "version": 3
   },
   "file_extension": ".py",
   "mimetype": "text/x-python",
   "name": "python",
   "nbconvert_exporter": "python",
   "pygments_lexer": "ipython3",
   "version": "3.7.3"
  }
 },
 "nbformat": 4,
 "nbformat_minor": 2
}
