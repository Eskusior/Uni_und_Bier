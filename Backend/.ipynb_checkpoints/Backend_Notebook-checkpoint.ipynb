{
 "cells": [
  {
   "cell_type": "code",
   "execution_count": 1,
   "metadata": {},
   "outputs": [],
   "source": [
    "from flask import Flask, request\n",
    "from flask_restful import Resource, Api\n",
    "from flask_cors import CORS\n",
    "from sqlalchemy import create_engine\n",
    "from json import dumps\n",
    "from flask import jsonify, redirect\n",
    "import optparse\n",
    "import stardog\n",
    "\n",
    "app = Flask(__name__)\n",
    "cors = CORS(app, resources={r\"*\": {\"origins\": \"*\"}}) # CORS\n",
    "api = Api(app)\n",
    "\n",
    "conn_details = {\n",
    "    'endpoint': 'http://webengineering.ins.hs-anhalt.de:32196',\n",
    "    'username': 'admin',\n",
    "    'password': 'admin'\n",
    "}\n",
    "\n",
    "dbName = 'db1'"
   ]
  },
  {
   "cell_type": "code",
   "execution_count": 2,
   "metadata": {},
   "outputs": [],
   "source": [
    "# Klasse um Daten aus Stardog zu holen\n",
    "class getData(Resource):\n",
    "    def post(self):\n",
    "        if not request.json:\n",
    "            return jsonify({'status': 'could not get requested data', 'statuscode': 409})\n",
    "        else:\n",
    "            print(request.json)\n",
    "            with stardog.Connection(dbName, **conn_details) as conn:\n",
    "                conn.begin()\n",
    "                results = conn.select('select * { ?a ?p ?o }')\n",
    "                print(results)\n",
    "            return jsonify({'status': 'updated highscore with id: ', 'statuscode': 200})"
   ]
  },
  {
   "cell_type": "code",
   "execution_count": null,
   "metadata": {},
   "outputs": [
    {
     "name": "stdout",
     "output_type": "stream",
     "text": [
      " * Serving Flask app \"__main__\" (lazy loading)\n",
      " * Environment: production\n",
      "   WARNING: Do not use the development server in a production environment.\n",
      "   Use a production WSGI server instead.\n",
      " * Debug mode: off\n"
     ]
    },
    {
     "name": "stderr",
     "output_type": "stream",
     "text": [
      " * Running on http://127.0.0.1:4000/ (Press CTRL+C to quit)\n",
      "127.0.0.1 - - [07/Sep/2019 10:58:54] \"OPTIONS /universities HTTP/1.1\" 200 -\n",
      "127.0.0.1 - - [07/Sep/2019 10:58:55] \"POST /universities HTTP/1.1\" 200 -\n"
     ]
    },
    {
     "name": "stdout",
     "output_type": "stream",
     "text": [
      "{'uniName': 'Kiel', 'subject': 'asd', 'plz': '12345', 'plzPerimeter': '1', 'extraOptions': [{'count': '2', 'type': 'restaurant', 'perimeter': '2'}, {'count': '3', 'type': 'tramstop', 'perimeter': '3'}, {'count': '4', 'type': 'busstop', 'perimeter': '4'}]}\n"
     ]
    }
   ],
   "source": [
    "# Klassen an entsprechende URLs binden\n",
    "api.add_resource(getData, '/universities')\n",
    "\n",
    "# Run für Testzwecke, startet auf localhost:5000\n",
    "if __name__ == \"__main__\":\n",
    "    app.run(port=4000)\n",
    "\n",
    "# Run für Dockercontainer, mit Portangabe\n",
    "#if __name__ == \"__main__\":\n",
    " #   parser = optparse.OptionParser(usage=\"python server.py -p \")\n",
    "  #  parser.add_option('-p', '--port', action='store', dest='port', help='The port to listen on.')\n",
    "   # (args, _) = parser.parse_args()\n",
    "    #if args.port == None:\n",
    "     #   print(\"Missing required argument: -p/--port\")\n",
    "      #  sys.exit(1)\n",
    "    #app.run(host='0.0.0.0', port=int(args.port), debug=False)"
   ]
  }
 ],
 "metadata": {
  "kernelspec": {
   "display_name": "Python 3",
   "language": "python",
   "name": "python3"
  },
  "language_info": {
   "codemirror_mode": {
    "name": "ipython",
    "version": 3
   },
   "file_extension": ".py",
   "mimetype": "text/x-python",
   "name": "python",
   "nbconvert_exporter": "python",
   "pygments_lexer": "ipython3",
   "version": "3.7.3"
  }
 },
 "nbformat": 4,
 "nbformat_minor": 2
}
