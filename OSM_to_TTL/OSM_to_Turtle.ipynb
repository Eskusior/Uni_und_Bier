{
 "cells": [
  {
   "cell_type": "code",
   "execution_count": 2,
   "metadata": {},
   "outputs": [
    {
     "name": "stdout",
     "output_type": "stream",
     "text": [
      "Fertsch\n"
     ]
    }
   ],
   "source": [
    "import xml.etree.ElementTree as ET\n",
    "from rdflib import BNode, Literal, Namespace, Graph\n",
    "\n",
    "# OSM Datei laden\n",
    "tree = ET.parse('germany-tram.osm')\n",
    "root = tree.getroot()\n",
    "\n",
    "g = Graph() # Graphen erstellen\n",
    "\n",
    "i = 1\n",
    "\n",
    "# Namespaces deklarieren\n",
    "wgs = Namespace(\"http://www.w3.org/2003/01/geo/wgs84_pos#\")\n",
    "geo = Namespace(\"http://www.opengis.net/ont/geosparql#\")\n",
    "rdf = Namespace(\"http://www.w3.org/1999/02/22-rdf-syntax-ns#\")\n",
    "rdfs = Namespace(\"http://www.w3.org/2000/01/rdf-schema#\")\n",
    "foaf = Namespace(\"http://xmlns.com/foaf/0.1/\") \n",
    "xsd = Namespace(\"http://www.w3.org/2001/XMLSchema#\")\n",
    "starGeo = Namespace(\"http://blog.stardog.com/geons/\")\n",
    "\n",
    "# Für jeden Node in OSM\n",
    "for node in root.findall(\"node\"):\n",
    "    if(node.find(\"tag[@k='name']\") != None):\n",
    "        name = node.find(\"tag[@k='name']\").get('v') # Wenn Name vorhanden\n",
    "    elif node.find(\"tag[@k='amenity']\"):\n",
    "        name=node.find(\"tag[@k='amenity']\").get('v') + str(i) # Wenn Typ vorhanden\n",
    "        i += 1\n",
    "    else:\n",
    "        name=\"tramstation\" + str(i) # Ansonsten\n",
    "        i +=1\n",
    "    \n",
    "    # Blank Nodes erstellen\n",
    "    locNode = BNode(name)\n",
    "    geomName = name + \"Geom\"\n",
    "    geomNode = BNode(geomName)\n",
    "    \n",
    "    # Lat und Lon holen\n",
    "    lat = node.get('lat')\n",
    "    lon = node.get('lon')\n",
    "    \n",
    "    # Triple schreiben\n",
    "    g.add( (geomNode, rdf.type, geo.Geometry) )\n",
    "    g.add( (geomNode, wgs.lat, Literal(lat , datatype=xsd.float)) )\n",
    "    g.add( (geomNode, wgs.lon, Literal(lon , datatype=xsd.float)) )\n",
    "    \n",
    "    g.add( (locNode, rdf.type, starGeo.Location) )\n",
    "    g.add( (locNode, rdfs.label, Literal(name)) )\n",
    "    g.add( (locNode, rdf.type, Literal(\"Straßenbahnstation\")) )\n",
    "    g.add( (locNode, geo.hasGeometry, geomNode) )\n",
    "    \n",
    "g.serialize(destination='tram.ttl', format='turtle') # Datei abspeichern\n",
    "print(\"Finished\") # Signalisierung, dass Programm fertig"
   ]
  },
  {
   "cell_type": "code",
   "execution_count": null,
   "metadata": {},
   "outputs": [],
   "source": []
  }
 ],
 "metadata": {
  "kernelspec": {
   "display_name": "Python 3",
   "language": "python",
   "name": "python3"
  },
  "language_info": {
   "codemirror_mode": {
    "name": "ipython",
    "version": 3
   },
   "file_extension": ".py",
   "mimetype": "text/x-python",
   "name": "python",
   "nbconvert_exporter": "python",
   "pygments_lexer": "ipython3",
   "version": "3.7.3"
  }
 },
 "nbformat": 4,
 "nbformat_minor": 2
}
