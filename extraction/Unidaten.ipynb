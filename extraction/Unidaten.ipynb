{
 "cells": [
  {
   "cell_type": "code",
   "execution_count": 38,
   "metadata": {},
   "outputs": [],
   "source": [
    "import requests\n",
    "import lxml.html as lh\n",
    "import pandas as pd\n",
    "import json\n",
    "from SPARQLWrapper import SPARQLWrapper, JSON\n",
    "\n",
    "# URL der Universitäten aus dem Top Ranking\n",
    "url = \"https://www.timeshighereducation.com/sites/default/files/the_data_rankings/world_university_rankings_2019_limit0_7216a250f6ae72c71cd09563798a9f18.json\"\n",
    "\n",
    "page = requests.get(url) # GET auf URL\n",
    "\n",
    "jsonData = page.json() # Umwandlung in JSON\n",
    "\n",
    "gerUniversities = []\n",
    "\n",
    "for uni in jsonData['data']:\n",
    "    \n",
    "    # Filtern der deutschen Universitäten und speichern in Array\n",
    "    if(str(uni['location']) == 'Germany'):\n",
    "        gerUniversities.append(uni)\n",
    "    \n",
    "#[uni['name'].replace(\" \", \"_\") for uni in gerUniversities] # Anzeige"
   ]
  },
  {
   "cell_type": "code",
   "execution_count": 40,
   "metadata": {},
   "outputs": [],
   "source": [
    "# SPARQL Anfrage auf DBpedia\n",
    "\n",
    "sparql = SPARQLWrapper(\"http://dbpedia.org/sparql\") # SPARQL Interpreter \n",
    "\n",
    "# Für jede Uni in Array\n",
    "for uni in gerUniversities:\n",
    "    \n",
    "    uniname = uni[\"name\"].replace(\" \", \"_\") # Einheitliche Struktur erstellen\n",
    "    #print(uniname)\n",
    "    \n",
    "    # Query für DBpediaseite der Universität erstellen\n",
    "    sparql.setQuery(\"\"\"\n",
    "        SELECT (str(?nameObject) as ?name), (str(?cityObject) as ?city), (str(?countryObject) as ?country),\n",
    "        (str(?numOfStudentsObject) as ?numOfStudents), ?links, ?geoPoint\n",
    "        WHERE {\n",
    "            <http://en.wikipedia.org/wiki/\"\"\" + uniname + \"\"\">  foaf:primaryTopic ?site.\n",
    "            ?site rdfs:label ?nameObject.\n",
    "            FILTER (lang(?nameObject) = \"\" || lang(?nameObject) = \"de\")\n",
    "            ?site dbo:city ?cityObject.\n",
    "            ?site dbo:country ?countryObject.\n",
    "            ?site dbo:numberOfStudents ?numOfStudentsObject.\n",
    "            ?site foaf:homepage ?homepage.\n",
    "            ?site georss:point ?geoPoint\n",
    "        }\n",
    "    \"\"\")\n",
    "    \n",
    "    # Rückgabetyp setzen\n",
    "    sparql.setReturnFormat(\"json\")\n",
    "    #sparql.setReturnFormat(\"xml\")\n",
    "    \n",
    "    result = sparql.query().convert() # Anfrage stellen\n",
    "    \n",
    "    #print(result) # Anzeige"
   ]
  },
  {
   "cell_type": "code",
   "execution_count": 23,
   "metadata": {},
   "outputs": [
    {
     "name": "stdout",
     "output_type": "stream",
     "text": [
      "<Element html at 0x271b7f73e08>\n",
      "[<Element header at 0x271b822fcc8>]\n"
     ]
    }
   ],
   "source": []
  }
 ],
 "metadata": {
  "kernelspec": {
   "display_name": "Python 3",
   "language": "python",
   "name": "python3"
  },
  "language_info": {
   "codemirror_mode": {
    "name": "ipython",
    "version": 3
   },
   "file_extension": ".py",
   "mimetype": "text/x-python",
   "name": "python",
   "nbconvert_exporter": "python",
   "pygments_lexer": "ipython3",
   "version": "3.7.3"
  }
 },
 "nbformat": 4,
 "nbformat_minor": 2
}
