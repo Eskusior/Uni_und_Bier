{
 "cells": [
  {
   "cell_type": "code",
   "execution_count": 10,
   "metadata": {},
   "outputs": [
    {
     "data": {
      "text/plain": [
       "['LMU Munich',\n",
       " 'Technical University of Munich',\n",
       " 'Heidelberg University',\n",
       " 'Humboldt University of Berlin',\n",
       " 'University of Freiburg',\n",
       " 'RWTH Aachen University',\n",
       " 'University of Tübingen',\n",
       " 'Charité - Universitätsmedizin Berlin',\n",
       " 'Free University of Berlin',\n",
       " 'University of Bonn',\n",
       " 'University of Göttingen',\n",
       " 'University of Mannheim',\n",
       " 'Technical University of Berlin',\n",
       " 'University of Hamburg',\n",
       " 'Karlsruhe Institute of Technology',\n",
       " 'University of Cologne',\n",
       " 'Ulm University',\n",
       " 'TU Dresden',\n",
       " 'University of Würzburg',\n",
       " 'University of Erlangen-Nuremberg',\n",
       " 'University of Münster',\n",
       " 'University of Konstanz',\n",
       " 'University of Duisburg-Essen',\n",
       " 'Bielefeld University',\n",
       " 'University of Hohenheim',\n",
       " 'University of Kiel',\n",
       " 'University of Passau',\n",
       " 'University of Potsdam',\n",
       " 'Goethe University Frankfurt',\n",
       " 'Jacobs University',\n",
       " 'Johannes Gutenberg University of Mainz',\n",
       " 'University of Marburg',\n",
       " 'Ruhr University Bochum',\n",
       " 'University of Stuttgart',\n",
       " 'Technical University of Darmstadt',\n",
       " 'University of Bayreuth',\n",
       " 'University of Bremen',\n",
       " 'TU Dortmund University',\n",
       " 'Justus Liebig University Giessen',\n",
       " 'University of Greifswald',\n",
       " 'Hamburg University of Technology',\n",
       " 'University of Kaiserslautern',\n",
       " 'Leibniz University Hanover',\n",
       " 'University of Siegen',\n",
       " 'Chemnitz University of Technology',\n",
       " 'Ilmenau University of Technology',\n",
       " 'Otto von Guericke University of Magdeburg']"
      ]
     },
     "execution_count": 10,
     "metadata": {},
     "output_type": "execute_result"
    }
   ],
   "source": [
    "import requests\n",
    "import lxml.html as lh\n",
    "import pandas as pd\n",
    "import json\n",
    "from SPARQLWrapper import SPARQLWrapper, JSON\n",
    "\n",
    "# URL der Universitäten aus dem Top Ranking\n",
    "url = \"https://www.timeshighereducation.com/sites/default/files/the_data_rankings/world_university_rankings_2019_limit0_7216a250f6ae72c71cd09563798a9f18.json\"\n",
    "\n",
    "page = requests.get(url) # GET auf URL\n",
    "\n",
    "jsonData = page.json() # Umwandlung in JSON\n",
    "\n",
    "gerUniversities = []\n",
    "\n",
    "for uni in jsonData['data']:\n",
    "    \n",
    "    # Filtern der deutschen Universitäten und speichern in Array\n",
    "    if(str(uni['location']) == 'Germany'):\n",
    "        gerUniversities.append(uni)\n",
    "    \n",
    "[uni['name'] for uni in gerUniversities] # Anzeige"
   ]
  },
  {
   "cell_type": "code",
   "execution_count": 19,
   "metadata": {},
   "outputs": [
    {
     "name": "stdout",
     "output_type": "stream",
     "text": [
      "[{'head': {'link': [], 'vars': ['name', 'city', 'country', 'numOfStudents', 'homepage', 'geoPoint']}, 'results': {'distinct': False, 'ordered': True, 'bindings': []}}, {'head': {'link': [], 'vars': ['name', 'city', 'country', 'numOfStudents', 'homepage', 'geoPoint']}, 'results': {'distinct': False, 'ordered': True, 'bindings': [{'name': {'type': 'literal', 'value': 'Technische Universität München'}, 'city': {'type': 'literal', 'value': 'http://dbpedia.org/resource/Munich'}, 'country': {'type': 'literal', 'value': 'http://dbpedia.org/resource/Federal_Republic_of_Germany'}, 'numOfStudents': {'type': 'literal', 'value': '39081'}, 'homepage': {'type': 'uri', 'value': 'http://www.tum.de'}, 'geoPoint': {'type': 'literal', 'value': '48.14805555555556 11.568055555555556'}}]}}, {'head': {'link': [], 'vars': ['name', 'city', 'country', 'numOfStudents', 'homepage', 'geoPoint']}, 'results': {'distinct': False, 'ordered': True, 'bindings': [{'name': {'type': 'literal', 'value': 'Ruprecht-Karls-Universität Heidelberg'}, 'city': {'type': 'literal', 'value': 'http://dbpedia.org/resource/Heidelberg'}, 'country': {'type': 'literal', 'value': 'http://dbpedia.org/resource/Germany'}, 'numOfStudents': {'type': 'literal', 'value': '30873'}, 'homepage': {'type': 'uri', 'value': 'http://www.uni-heidelberg.de/index_e.html'}, 'geoPoint': {'type': 'literal', 'value': '49.41027777777778 8.706388888888888'}}]}}, {'head': {'link': [], 'vars': ['name', 'city', 'country', 'numOfStudents', 'homepage', 'geoPoint']}, 'results': {'distinct': False, 'ordered': True, 'bindings': [{'name': {'type': 'literal', 'value': 'Humboldt-Universität zu Berlin'}, 'city': {'type': 'literal', 'value': 'http://dbpedia.org/resource/Berlin'}, 'country': {'type': 'literal', 'value': 'http://dbpedia.org/resource/Germany'}, 'numOfStudents': {'type': 'literal', 'value': '33540'}, 'homepage': {'type': 'uri', 'value': 'https://www.hu-berlin.de/?set_language=en&cl=en'}, 'geoPoint': {'type': 'literal', 'value': '52.518055555555556 13.393333333333333'}}]}}, {'head': {'link': [], 'vars': ['name', 'city', 'country', 'numOfStudents', 'homepage', 'geoPoint']}, 'results': {'distinct': False, 'ordered': True, 'bindings': []}}, {'head': {'link': [], 'vars': ['name', 'city', 'country', 'numOfStudents', 'homepage', 'geoPoint']}, 'results': {'distinct': False, 'ordered': True, 'bindings': []}}, {'head': {'link': [], 'vars': ['name', 'city', 'country', 'numOfStudents', 'homepage', 'geoPoint']}, 'results': {'distinct': False, 'ordered': True, 'bindings': []}}, {'head': {'link': [], 'vars': ['name', 'city', 'country', 'numOfStudents', 'homepage', 'geoPoint']}, 'results': {'distinct': False, 'ordered': True, 'bindings': []}}, {'head': {'link': [], 'vars': ['name', 'city', 'country', 'numOfStudents', 'homepage', 'geoPoint']}, 'results': {'distinct': False, 'ordered': True, 'bindings': [{'name': {'type': 'literal', 'value': 'Freie Universität Berlin'}, 'city': {'type': 'literal', 'value': 'http://dbpedia.org/resource/Berlin'}, 'country': {'type': 'literal', 'value': 'http://dbpedia.org/resource/Germany'}, 'numOfStudents': {'type': 'literal', 'value': '34518'}, 'homepage': {'type': 'uri', 'value': 'http://www.fu-berlin.de/en'}, 'geoPoint': {'type': 'literal', 'value': '52.45305555555556 13.290555555555555'}}]}}, {'head': {'link': [], 'vars': ['name', 'city', 'country', 'numOfStudents', 'homepage', 'geoPoint']}, 'results': {'distinct': False, 'ordered': True, 'bindings': [{'name': {'type': 'literal', 'value': 'Rheinische Friedrich-Wilhelms-Universität Bonn'}, 'city': {'type': 'literal', 'value': 'http://dbpedia.org/resource/Bonn'}, 'country': {'type': 'literal', 'value': 'http://dbpedia.org/resource/Germany'}, 'numOfStudents': {'type': 'literal', 'value': '32500'}, 'homepage': {'type': 'uri', 'value': 'http://www3.uni-bonn.de/news-1?set_language=en'}, 'geoPoint': {'type': 'literal', 'value': '50.73388888888889 7.102222222222222'}}]}}, {'head': {'link': [], 'vars': ['name', 'city', 'country', 'numOfStudents', 'homepage', 'geoPoint']}, 'results': {'distinct': False, 'ordered': True, 'bindings': []}}, {'head': {'link': [], 'vars': ['name', 'city', 'country', 'numOfStudents', 'homepage', 'geoPoint']}, 'results': {'distinct': False, 'ordered': True, 'bindings': [{'name': {'type': 'literal', 'value': 'Universität Mannheim'}, 'city': {'type': 'literal', 'value': 'http://dbpedia.org/resource/Mannheim'}, 'country': {'type': 'literal', 'value': 'http://dbpedia.org/resource/Germany'}, 'numOfStudents': {'type': 'literal', 'value': '12362'}, 'homepage': {'type': 'uri', 'value': 'https://www.uni-mannheim.de/1/english/'}, 'geoPoint': {'type': 'literal', 'value': '49.4832 8.4647'}}]}}, {'head': {'link': [], 'vars': ['name', 'city', 'country', 'numOfStudents', 'homepage', 'geoPoint']}, 'results': {'distinct': False, 'ordered': True, 'bindings': [{'name': {'type': 'literal', 'value': 'Technische Universität Berlin'}, 'city': {'type': 'literal', 'value': 'http://dbpedia.org/resource/Berlin'}, 'country': {'type': 'literal', 'value': 'http://dbpedia.org/resource/Germany'}, 'numOfStudents': {'type': 'literal', 'value': '33933'}, 'homepage': {'type': 'uri', 'value': 'https://www.tu-berlin.de/menue/home/parameter/en/'}, 'geoPoint': {'type': 'literal', 'value': '52.511944444444445 13.32638888888889'}}]}}, {'head': {'link': [], 'vars': ['name', 'city', 'country', 'numOfStudents', 'homepage', 'geoPoint']}, 'results': {'distinct': False, 'ordered': True, 'bindings': [{'name': {'type': 'literal', 'value': 'Universität Hamburg'}, 'city': {'type': 'literal', 'value': 'http://dbpedia.org/resource/Hamburg'}, 'country': {'type': 'literal', 'value': 'http://dbpedia.org/resource/Germany'}, 'numOfStudents': {'type': 'literal', 'value': '42106'}, 'homepage': {'type': 'uri', 'value': 'https://www.uni-hamburg.de/index_e.html'}, 'geoPoint': {'type': 'literal', 'value': '53.566944444444445 9.983888888888888'}}]}}, {'head': {'link': [], 'vars': ['name', 'city', 'country', 'numOfStudents', 'homepage', 'geoPoint']}, 'results': {'distinct': False, 'ordered': True, 'bindings': [{'name': {'type': 'literal', 'value': 'Karlsruher Institut für Technologie'}, 'city': {'type': 'literal', 'value': 'http://dbpedia.org/resource/Karlsruhe'}, 'country': {'type': 'literal', 'value': 'http://dbpedia.org/resource/Germany'}, 'numOfStudents': {'type': 'literal', 'value': '25196'}, 'homepage': {'type': 'uri', 'value': 'https://www.kit.edu/english/'}, 'geoPoint': {'type': 'literal', 'value': '49.00944444444445 8.411666666666667'}}]}}, {'head': {'link': [], 'vars': ['name', 'city', 'country', 'numOfStudents', 'homepage', 'geoPoint']}, 'results': {'distinct': False, 'ordered': True, 'bindings': [{'name': {'type': 'literal', 'value': 'Universität zu Köln'}, 'city': {'type': 'literal', 'value': 'http://dbpedia.org/resource/Cologne'}, 'country': {'type': 'literal', 'value': 'http://dbpedia.org/resource/Germany'}, 'numOfStudents': {'type': 'literal', 'value': '48179'}, 'homepage': {'type': 'uri', 'value': 'http://www.portal.uni-koeln.de/uoc_home.html?&L=1'}, 'geoPoint': {'type': 'literal', 'value': '50.92805555555555 6.9286111111111115'}}]}}, {'head': {'link': [], 'vars': ['name', 'city', 'country', 'numOfStudents', 'homepage', 'geoPoint']}, 'results': {'distinct': False, 'ordered': True, 'bindings': []}}, {'head': {'link': [], 'vars': ['name', 'city', 'country', 'numOfStudents', 'homepage', 'geoPoint']}, 'results': {'distinct': False, 'ordered': True, 'bindings': []}}, {'head': {'link': [], 'vars': ['name', 'city', 'country', 'numOfStudents', 'homepage', 'geoPoint']}, 'results': {'distinct': False, 'ordered': True, 'bindings': []}}, {'head': {'link': [], 'vars': ['name', 'city', 'country', 'numOfStudents', 'homepage', 'geoPoint']}, 'results': {'distinct': False, 'ordered': True, 'bindings': [{'name': {'type': 'literal', 'value': 'Friedrich-Alexander-Universität Erlangen-Nürnberg'}, 'city': {'type': 'literal', 'value': 'http://dbpedia.org/resource/Nuremberg'}, 'country': {'type': 'literal', 'value': 'http://dbpedia.org/resource/Germany'}, 'numOfStudents': {'type': 'literal', 'value': '39085'}, 'homepage': {'type': 'uri', 'value': 'http://fau.eu/'}, 'geoPoint': {'type': 'literal', 'value': '49.59791666666667 11.004769444444445'}}, {'name': {'type': 'literal', 'value': 'Friedrich-Alexander-Universität Erlangen-Nürnberg'}, 'city': {'type': 'literal', 'value': 'http://dbpedia.org/resource/Erlangen'}, 'country': {'type': 'literal', 'value': 'http://dbpedia.org/resource/Germany'}, 'numOfStudents': {'type': 'literal', 'value': '39085'}, 'homepage': {'type': 'uri', 'value': 'http://fau.eu/'}, 'geoPoint': {'type': 'literal', 'value': '49.59791666666667 11.004769444444445'}}]}}, {'head': {'link': [], 'vars': ['name', 'city', 'country', 'numOfStudents', 'homepage', 'geoPoint']}, 'results': {'distinct': False, 'ordered': True, 'bindings': []}}, {'head': {'link': [], 'vars': ['name', 'city', 'country', 'numOfStudents', 'homepage', 'geoPoint']}, 'results': {'distinct': False, 'ordered': True, 'bindings': [{'name': {'type': 'literal', 'value': 'Universität Konstanz'}, 'city': {'type': 'literal', 'value': 'http://dbpedia.org/resource/Konstanz'}, 'country': {'type': 'literal', 'value': 'http://dbpedia.org/resource/Germany'}, 'numOfStudents': {'type': 'literal', 'value': '11711'}, 'homepage': {'type': 'uri', 'value': 'https://www.uni-konstanz.de/en/'}, 'geoPoint': {'type': 'literal', 'value': '47.69 9.188'}}]}}, {'head': {'link': [], 'vars': ['name', 'city', 'country', 'numOfStudents', 'homepage', 'geoPoint']}, 'results': {'distinct': False, 'ordered': True, 'bindings': []}}, {'head': {'link': [], 'vars': ['name', 'city', 'country', 'numOfStudents', 'homepage', 'geoPoint']}, 'results': {'distinct': False, 'ordered': True, 'bindings': [{'name': {'type': 'literal', 'value': 'Universität Bielefeld'}, 'city': {'type': 'literal', 'value': 'http://dbpedia.org/resource/Bielefeld'}, 'country': {'type': 'literal', 'value': 'http://dbpedia.org/resource/Germany'}, 'numOfStudents': {'type': 'literal', 'value': '23683'}, 'homepage': {'type': 'uri', 'value': 'https://www.uni-bielefeld.de/(en)/index.html'}, 'geoPoint': {'type': 'literal', 'value': '52.03777777777778 8.493055555555555'}}]}}, {'head': {'link': [], 'vars': ['name', 'city', 'country', 'numOfStudents', 'homepage', 'geoPoint']}, 'results': {'distinct': False, 'ordered': True, 'bindings': [{'name': {'type': 'literal', 'value': 'Universität Hohenheim'}, 'city': {'type': 'literal', 'value': 'http://dbpedia.org/resource/Stuttgart'}, 'country': {'type': 'literal', 'value': 'http://dbpedia.org/resource/Germany'}, 'numOfStudents': {'type': 'literal', 'value': '8767'}, 'homepage': {'type': 'uri', 'value': 'https://www.uni-hohenheim.de/english'}, 'geoPoint': {'type': 'literal', 'value': '48.7114 9.2095'}}]}}, {'head': {'link': [], 'vars': ['name', 'city', 'country', 'numOfStudents', 'homepage', 'geoPoint']}, 'results': {'distinct': False, 'ordered': True, 'bindings': [{'name': {'type': 'literal', 'value': 'Christian-Albrechts-Universität zu Kiel'}, 'city': {'type': 'literal', 'value': 'http://dbpedia.org/resource/Kiel'}, 'country': {'type': 'literal', 'value': 'http://dbpedia.org/resource/Germany'}, 'numOfStudents': {'type': 'literal', 'value': '24108'}, 'homepage': {'type': 'uri', 'value': 'https://www.uni-kiel.de/index-e.shtml'}, 'geoPoint': {'type': 'literal', 'value': '54.33888888888889 10.1225'}}]}}, {'head': {'link': [], 'vars': ['name', 'city', 'country', 'numOfStudents', 'homepage', 'geoPoint']}, 'results': {'distinct': False, 'ordered': True, 'bindings': [{'name': {'type': 'literal', 'value': 'Universität Passau'}, 'city': {'type': 'literal', 'value': 'http://dbpedia.org/resource/Passau'}, 'country': {'type': 'literal', 'value': 'http://dbpedia.org/resource/Germany'}, 'numOfStudents': {'type': 'literal', 'value': '11588'}, 'homepage': {'type': 'uri', 'value': 'http://www.uni-passau.de/en/'}, 'geoPoint': {'type': 'literal', 'value': '48.568333333333335 13.453333333333333'}}]}}, {'head': {'link': [], 'vars': ['name', 'city', 'country', 'numOfStudents', 'homepage', 'geoPoint']}, 'results': {'distinct': False, 'ordered': True, 'bindings': []}}, {'head': {'link': [], 'vars': ['name', 'city', 'country', 'numOfStudents', 'homepage', 'geoPoint']}, 'results': {'distinct': False, 'ordered': True, 'bindings': [{'name': {'type': 'literal', 'value': 'Johann Wolfgang Goethe-Universität Frankfurt am Main'}, 'city': {'type': 'literal', 'value': 'http://dbpedia.org/resource/Frankfurt_am_Main'}, 'country': {'type': 'literal', 'value': 'http://dbpedia.org/resource/Germany'}, 'numOfStudents': {'type': 'literal', 'value': '44428'}, 'homepage': {'type': 'uri', 'value': 'http://www.goethe-university-frankfurt.de/'}, 'geoPoint': {'type': 'literal', 'value': '50.12777777777778 8.666666666666666'}}]}}, {'head': {'link': [], 'vars': ['name', 'city', 'country', 'numOfStudents', 'homepage', 'geoPoint']}, 'results': {'distinct': False, 'ordered': True, 'bindings': []}}, {'head': {'link': [], 'vars': ['name', 'city', 'country', 'numOfStudents', 'homepage', 'geoPoint']}, 'results': {'distinct': False, 'ordered': True, 'bindings': []}}, {'head': {'link': [], 'vars': ['name', 'city', 'country', 'numOfStudents', 'homepage', 'geoPoint']}, 'results': {'distinct': False, 'ordered': True, 'bindings': []}}, {'head': {'link': [], 'vars': ['name', 'city', 'country', 'numOfStudents', 'homepage', 'geoPoint']}, 'results': {'distinct': False, 'ordered': True, 'bindings': [{'name': {'type': 'literal', 'value': 'Ruhr-Universität Bochum'}, 'city': {'type': 'literal', 'value': 'http://dbpedia.org/resource/Bochum'}, 'country': {'type': 'literal', 'value': 'http://dbpedia.org/resource/Germany'}, 'numOfStudents': {'type': 'literal', 'value': '42718'}, 'homepage': {'type': 'uri', 'value': 'https://www.ruhr-uni-bochum.de/index_en.htm'}, 'geoPoint': {'type': 'literal', 'value': '51.443888888888885 7.261666666666667'}}]}}, {'head': {'link': [], 'vars': ['name', 'city', 'country', 'numOfStudents', 'homepage', 'geoPoint']}, 'results': {'distinct': False, 'ordered': True, 'bindings': [{'name': {'type': 'literal', 'value': 'Universität Stuttgart'}, 'city': {'type': 'literal', 'value': 'http://dbpedia.org/resource/Stuttgart'}, 'country': {'type': 'literal', 'value': 'http://dbpedia.org/resource/Germany'}, 'numOfStudents': {'type': 'literal', 'value': '24642'}, 'homepage': {'type': 'uri', 'value': 'https://www.uni-stuttgart.de/home/index.en.html'}, 'geoPoint': {'type': 'literal', 'value': '48.781666666666666 9.175277777777778'}}]}}, {'head': {'link': [], 'vars': ['name', 'city', 'country', 'numOfStudents', 'homepage', 'geoPoint']}, 'results': {'distinct': False, 'ordered': True, 'bindings': []}}, {'head': {'link': [], 'vars': ['name', 'city', 'country', 'numOfStudents', 'homepage', 'geoPoint']}, 'results': {'distinct': False, 'ordered': True, 'bindings': []}}, {'head': {'link': [], 'vars': ['name', 'city', 'country', 'numOfStudents', 'homepage', 'geoPoint']}, 'results': {'distinct': False, 'ordered': True, 'bindings': []}}, {'head': {'link': [], 'vars': ['name', 'city', 'country', 'numOfStudents', 'homepage', 'geoPoint']}, 'results': {'distinct': False, 'ordered': True, 'bindings': []}}, {'head': {'link': [], 'vars': ['name', 'city', 'country', 'numOfStudents', 'homepage', 'geoPoint']}, 'results': {'distinct': False, 'ordered': True, 'bindings': []}}, {'head': {'link': [], 'vars': ['name', 'city', 'country', 'numOfStudents', 'homepage', 'geoPoint']}, 'results': {'distinct': False, 'ordered': True, 'bindings': [{'name': {'type': 'literal', 'value': 'Ernst-Moritz-Arndt-Universität Greifswald'}, 'city': {'type': 'literal', 'value': 'http://dbpedia.org/resource/Greifswald'}, 'country': {'type': 'literal', 'value': 'http://dbpedia.org/resource/Germany'}, 'numOfStudents': {'type': 'literal', 'value': '10857'}, 'homepage': {'type': 'uri', 'value': 'http://www.uni-greifswald.de/?L=1'}, 'geoPoint': {'type': 'literal', 'value': '54.094638 13.374626'}}]}}, {'head': {'link': [], 'vars': ['name', 'city', 'country', 'numOfStudents', 'homepage', 'geoPoint']}, 'results': {'distinct': False, 'ordered': True, 'bindings': [{'name': {'type': 'literal', 'value': 'Technische Universität Hamburg-Harburg'}, 'city': {'type': 'literal', 'value': 'http://dbpedia.org/resource/Hamburg'}, 'country': {'type': 'literal', 'value': 'http://dbpedia.org/resource/Germany'}, 'numOfStudents': {'type': 'literal', 'value': '6678'}, 'homepage': {'type': 'uri', 'value': 'http://www.tuhh.de/index_e.html'}, 'geoPoint': {'type': 'literal', 'value': '53.46083333333333 9.969444444444445'}}]}}, {'head': {'link': [], 'vars': ['name', 'city', 'country', 'numOfStudents', 'homepage', 'geoPoint']}, 'results': {'distinct': False, 'ordered': True, 'bindings': []}}, {'head': {'link': [], 'vars': ['name', 'city', 'country', 'numOfStudents', 'homepage', 'geoPoint']}, 'results': {'distinct': False, 'ordered': True, 'bindings': []}}, {'head': {'link': [], 'vars': ['name', 'city', 'country', 'numOfStudents', 'homepage', 'geoPoint']}, 'results': {'distinct': False, 'ordered': True, 'bindings': [{'name': {'type': 'literal', 'value': 'Universität Siegen'}, 'city': {'type': 'literal', 'value': 'http://dbpedia.org/resource/Siegen'}, 'country': {'type': 'literal', 'value': 'http://dbpedia.org/resource/Germany'}, 'numOfStudents': {'type': 'literal', 'value': '19414'}, 'homepage': {'type': 'uri', 'value': 'https://www.uni-siegen.de/start/index.html.en?lang=en'}, 'geoPoint': {'type': 'literal', 'value': '50.90638888888889 8.028333333333334'}}]}}, {'head': {'link': [], 'vars': ['name', 'city', 'country', 'numOfStudents', 'homepage', 'geoPoint']}, 'results': {'distinct': False, 'ordered': True, 'bindings': [{'name': {'type': 'literal', 'value': 'Technische Universität Chemnitz'}, 'city': {'type': 'literal', 'value': 'http://dbpedia.org/resource/Chemnitz'}, 'country': {'type': 'literal', 'value': 'http://dbpedia.org/resource/Germany'}, 'numOfStudents': {'type': 'literal', 'value': '10850'}, 'homepage': {'type': 'uri', 'value': 'http://www.tu-chemnitz.de/'}, 'geoPoint': {'type': 'literal', 'value': '50.81361111111111 12.929166666666667'}}]}}, {'head': {'link': [], 'vars': ['name', 'city', 'country', 'numOfStudents', 'homepage', 'geoPoint']}, 'results': {'distinct': False, 'ordered': True, 'bindings': []}}, {'head': {'link': [], 'vars': ['name', 'city', 'country', 'numOfStudents', 'homepage', 'geoPoint']}, 'results': {'distinct': False, 'ordered': True, 'bindings': []}}]\n"
     ]
    }
   ],
   "source": [
    "# SPARQL Anfrage auf DBpedia\n",
    "\n",
    "sparql = SPARQLWrapper(\"http://dbpedia.org/sparql\") # SPARQL Interpreter\n",
    "\n",
    "extractedData = []\n",
    "\n",
    "# Für jede Uni in Array\n",
    "for uni in gerUniversities:\n",
    "    \n",
    "    uniname = uni[\"name\"].replace(\" \", \"_\") # Einheitliche Struktur erstellen\n",
    "    #print(uniname)\n",
    "    \n",
    "    # Query für DBpediaseite der Universität erstellen\n",
    "    sparql.setQuery(\"\"\"\n",
    "        SELECT (str(?nameObject) as ?name), (str(?cityObject) as ?city), (str(?countryObject) as ?country),\n",
    "        (str(?numOfStudentsObject) as ?numOfStudents), ?homepage, ?geoPoint\n",
    "        WHERE {\n",
    "            <http://en.wikipedia.org/wiki/\"\"\" + uniname + \"\"\">  foaf:primaryTopic ?site.\n",
    "            ?site rdfs:label ?nameObject.\n",
    "            FILTER (lang(?nameObject) = \"\" || lang(?nameObject) = \"de\")\n",
    "            ?site dbo:city ?cityObject.\n",
    "            ?site dbo:country ?countryObject.\n",
    "            ?site dbo:numberOfStudents ?numOfStudentsObject.\n",
    "            ?site foaf:homepage ?homepage.\n",
    "            ?site georss:point ?geoPoint\n",
    "        }\n",
    "    \"\"\")\n",
    "    \n",
    "    # Rückgabetyp setzen\n",
    "    sparql.setReturnFormat(\"json\")\n",
    "    #sparql.setReturnFormat(\"xml\")\n",
    "    \n",
    "    result = sparql.query().convert() # Anfrage stellen\n",
    "    \n",
    "    extractedData.append(result)\n",
    "    \n",
    "print(extractedData)\n",
    "\n",
    "\n",
    "\n"
   ]
  }
 ],
 "metadata": {
  "kernelspec": {
   "display_name": "Python 3",
   "language": "python",
   "name": "python3"
  },
  "language_info": {
   "codemirror_mode": {
    "name": "ipython",
    "version": 3
   },
   "file_extension": ".py",
   "mimetype": "text/x-python",
   "name": "python",
   "nbconvert_exporter": "python",
   "pygments_lexer": "ipython3",
   "version": "3.7.3"
  }
 },
 "nbformat": 4,
 "nbformat_minor": 2
}
